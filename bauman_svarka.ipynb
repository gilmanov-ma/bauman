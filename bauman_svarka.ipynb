{
 "cells": [
  {
   "cell_type": "markdown",
   "metadata": {
    "toc": true
   },
   "source": [
    "<h1>Table of Contents<span class=\"tocSkip\"></span></h1>\n",
    "<div class=\"toc\"><ul class=\"toc-item\"><li><span><a href=\"#Предобработка-данных\" data-toc-modified-id=\"Предобработка-данных-1\"><span class=\"toc-item-num\">1&nbsp;&nbsp;</span>Предобработка данных</a></span></li><li><span><a href=\"#Исследовательский-анализ-данных\" data-toc-modified-id=\"Исследовательский-анализ-данных-2\"><span class=\"toc-item-num\">2&nbsp;&nbsp;</span>Исследовательский анализ данных</a></span></li><li><span><a href=\"#Разработка-модели-машинного-обучения\" data-toc-modified-id=\"Разработка-модели-машинного-обучения-3\"><span class=\"toc-item-num\">3&nbsp;&nbsp;</span>Разработка модели машинного обучения</a></span><ul class=\"toc-item\"><li><span><a href=\"#Обучение-нейронной-сетью\" data-toc-modified-id=\"Обучение-нейронной-сетью-3.1\"><span class=\"toc-item-num\">3.1&nbsp;&nbsp;</span>Обучение нейронной сетью</a></span></li><li><span><a href=\"#Cлучайный-лес\" data-toc-modified-id=\"Cлучайный-лес-3.2\"><span class=\"toc-item-num\">3.2&nbsp;&nbsp;</span>Cлучайный лес</a></span></li><li><span><a href=\"#Метод-K-ближайших-соседей\" data-toc-modified-id=\"Метод-K-ближайших-соседей-3.3\"><span class=\"toc-item-num\">3.3&nbsp;&nbsp;</span>Метод K-ближайших соседей</a></span></li></ul></li><li><span><a href=\"#Сохранение-модели\" data-toc-modified-id=\"Сохранение-модели-4\"><span class=\"toc-item-num\">4&nbsp;&nbsp;</span>Сохранение модели</a></span></li></ul></div>"
   ]
  },
  {
   "cell_type": "markdown",
   "metadata": {
    "id": "Y2-Zk_DMUy4B"
   },
   "source": [
    "# Предсказание размеров шва при электронно-лучевой сварке"
   ]
  },
  {
   "cell_type": "markdown",
   "metadata": {
    "id": "o05Zqp9kVSOH"
   },
   "source": [
    "В качестве исходных данных были взяты результаты экспериментальных исследований, проводимых в целях улучшения технологического процесса электронно-лучевой сварки изделия, сборка которого состоит из элементов, состоящих из разнородного материала. Установка электронно-лучевой сварки, на которой проводились исследования, предназначена для сварки электронным лучом в глубоком вакууме деталей сборочных единиц из нержавеющих сталей, титановых, алюминиевых и специальных сплавов. Существующая установка электронно-лучевой сварки обеспечивает повторяемость режимов в рамках возможностей реализованной системы управления. Работы по сварке выполнялись на образцах-имитаторах, соответствующих технологическому изделию. \n",
    "\n",
    "Для уменьшения вложения энергии при сварке:\n",
    "1.\tСнижалась величина сварочного тока (IW);<br>\n",
    "2.\tУвеличивался ток фокусировки электронного пучка (IF);<br>\n",
    "3.\tУвеличивалась скорость сварки (VW);<br>\n",
    "4.\tМенялось расстояние от поверхности образцов до электронно-оптической системы (FP). <br>\n",
    "\n",
    "По совокупности параметров технологических режимов обеспечивались минимально возможные размеры сварных швов: глубина шва (Depth) и ширина шва (Width). В процессе выполнения работ была произведена электронно-лучевая сварка 18-ти единиц образцов. Результаты металлографического контроля по размерам сварочного шва для каждого образца проводились в 4-х поперечных сечениях сварочного шва. Ускоряющее напряжение было постоянным в диапазоне 19,8 – 20 кВ. \n",
    "\n",
    "\n",
    "Набор полученных данных собраны в составе режимов сварки, размеров сварочных швов в поперечных сечениях всех образцов. "
   ]
  },
  {
   "cell_type": "code",
   "execution_count": null,
   "metadata": {},
   "outputs": [],
   "source": []
  },
  {
   "cell_type": "code",
   "execution_count": 1,
   "metadata": {
    "executionInfo": {
     "elapsed": 4579,
     "status": "ok",
     "timestamp": 1669041739921,
     "user": {
      "displayName": "Marat Gilmanov",
      "userId": "01427133271764782702"
     },
     "user_tz": -180
    },
    "id": "_7JMy3XqnxoV"
   },
   "outputs": [],
   "source": [
    "import pandas as pd\n",
    "import numpy as np\n",
    "import seaborn as sns\n",
    "import tensorflow as tf\n",
    "from tensorflow import keras\n",
    "from keras import layers\n",
    "from sklearn.model_selection import train_test_split\n",
    "import matplotlib.pyplot as plt"
   ]
  },
  {
   "cell_type": "markdown",
   "metadata": {
    "id": "UsUHh_XFVmcV"
   },
   "source": [
    "### Предобработка данных"
   ]
  },
  {
   "cell_type": "markdown",
   "metadata": {
    "id": "WQNn8ps7Vu4E"
   },
   "source": [
    "Загрузим датафрейм и получим первое представление о нём."
   ]
  },
  {
   "cell_type": "code",
   "execution_count": 2,
   "metadata": {
    "executionInfo": {
     "elapsed": 29,
     "status": "ok",
     "timestamp": 1669041739922,
     "user": {
      "displayName": "Marat Gilmanov",
      "userId": "01427133271764782702"
     },
     "user_tz": -180
    },
    "id": "8eJNWOlSn2yv"
   },
   "outputs": [],
   "source": [
    "df = pd.read_csv('ebw_data.csv')"
   ]
  },
  {
   "cell_type": "code",
   "execution_count": 3,
   "metadata": {
    "colab": {
     "base_uri": "https://localhost:8080/",
     "height": 206
    },
    "executionInfo": {
     "elapsed": 29,
     "status": "ok",
     "timestamp": 1669041739923,
     "user": {
      "displayName": "Marat Gilmanov",
      "userId": "01427133271764782702"
     },
     "user_tz": -180
    },
    "id": "dkmbAy0rV1HL",
    "outputId": "7a6a42e3-f211-409b-b684-88b685a79535"
   },
   "outputs": [
    {
     "data": {
      "text/html": [
       "<div>\n",
       "<style scoped>\n",
       "    .dataframe tbody tr th:only-of-type {\n",
       "        vertical-align: middle;\n",
       "    }\n",
       "\n",
       "    .dataframe tbody tr th {\n",
       "        vertical-align: top;\n",
       "    }\n",
       "\n",
       "    .dataframe thead th {\n",
       "        text-align: right;\n",
       "    }\n",
       "</style>\n",
       "<table border=\"1\" class=\"dataframe\">\n",
       "  <thead>\n",
       "    <tr style=\"text-align: right;\">\n",
       "      <th></th>\n",
       "      <th>IW</th>\n",
       "      <th>IF</th>\n",
       "      <th>VW</th>\n",
       "      <th>FP</th>\n",
       "      <th>Depth</th>\n",
       "      <th>Width</th>\n",
       "    </tr>\n",
       "  </thead>\n",
       "  <tbody>\n",
       "    <tr>\n",
       "      <th>0</th>\n",
       "      <td>47</td>\n",
       "      <td>139</td>\n",
       "      <td>4.5</td>\n",
       "      <td>80</td>\n",
       "      <td>1.60</td>\n",
       "      <td>2.54</td>\n",
       "    </tr>\n",
       "    <tr>\n",
       "      <th>1</th>\n",
       "      <td>47</td>\n",
       "      <td>139</td>\n",
       "      <td>4.5</td>\n",
       "      <td>80</td>\n",
       "      <td>1.62</td>\n",
       "      <td>2.50</td>\n",
       "    </tr>\n",
       "    <tr>\n",
       "      <th>2</th>\n",
       "      <td>47</td>\n",
       "      <td>139</td>\n",
       "      <td>4.5</td>\n",
       "      <td>80</td>\n",
       "      <td>1.68</td>\n",
       "      <td>2.60</td>\n",
       "    </tr>\n",
       "    <tr>\n",
       "      <th>3</th>\n",
       "      <td>47</td>\n",
       "      <td>139</td>\n",
       "      <td>4.5</td>\n",
       "      <td>80</td>\n",
       "      <td>1.58</td>\n",
       "      <td>2.52</td>\n",
       "    </tr>\n",
       "    <tr>\n",
       "      <th>4</th>\n",
       "      <td>45</td>\n",
       "      <td>140</td>\n",
       "      <td>4.5</td>\n",
       "      <td>80</td>\n",
       "      <td>1.76</td>\n",
       "      <td>2.48</td>\n",
       "    </tr>\n",
       "  </tbody>\n",
       "</table>\n",
       "</div>"
      ],
      "text/plain": [
       "   IW   IF   VW  FP  Depth  Width\n",
       "0  47  139  4.5  80   1.60   2.54\n",
       "1  47  139  4.5  80   1.62   2.50\n",
       "2  47  139  4.5  80   1.68   2.60\n",
       "3  47  139  4.5  80   1.58   2.52\n",
       "4  45  140  4.5  80   1.76   2.48"
      ]
     },
     "execution_count": 3,
     "metadata": {},
     "output_type": "execute_result"
    }
   ],
   "source": [
    "df.head()"
   ]
  },
  {
   "cell_type": "code",
   "execution_count": 4,
   "metadata": {
    "colab": {
     "base_uri": "https://localhost:8080/"
    },
    "executionInfo": {
     "elapsed": 28,
     "status": "ok",
     "timestamp": 1669041739924,
     "user": {
      "displayName": "Marat Gilmanov",
      "userId": "01427133271764782702"
     },
     "user_tz": -180
    },
    "id": "BfJtW3Z8oLxd",
    "outputId": "6ea4cd35-4905-4123-95b0-3813f18bf003"
   },
   "outputs": [
    {
     "name": "stdout",
     "output_type": "stream",
     "text": [
      "<class 'pandas.core.frame.DataFrame'>\n",
      "RangeIndex: 72 entries, 0 to 71\n",
      "Data columns (total 6 columns):\n",
      " #   Column  Non-Null Count  Dtype  \n",
      "---  ------  --------------  -----  \n",
      " 0   IW      72 non-null     int64  \n",
      " 1   IF      72 non-null     int64  \n",
      " 2   VW      72 non-null     float64\n",
      " 3   FP      72 non-null     int64  \n",
      " 4   Depth   72 non-null     float64\n",
      " 5   Width   72 non-null     float64\n",
      "dtypes: float64(3), int64(3)\n",
      "memory usage: 3.5 KB\n"
     ]
    }
   ],
   "source": [
    "df.info()"
   ]
  },
  {
   "cell_type": "markdown",
   "metadata": {
    "id": "recBAPfGWGtM"
   },
   "source": [
    "Пропущенных значений нет, формат данных изменять не требуется. "
   ]
  },
  {
   "cell_type": "code",
   "execution_count": 5,
   "metadata": {
    "colab": {
     "base_uri": "https://localhost:8080/",
     "height": 300
    },
    "executionInfo": {
     "elapsed": 24,
     "status": "ok",
     "timestamp": 1669041739926,
     "user": {
      "displayName": "Marat Gilmanov",
      "userId": "01427133271764782702"
     },
     "user_tz": -180
    },
    "id": "hz5juloxWeO0",
    "outputId": "898a755e-af77-476e-a838-3fd156b495a3"
   },
   "outputs": [
    {
     "data": {
      "text/html": [
       "<div>\n",
       "<style scoped>\n",
       "    .dataframe tbody tr th:only-of-type {\n",
       "        vertical-align: middle;\n",
       "    }\n",
       "\n",
       "    .dataframe tbody tr th {\n",
       "        vertical-align: top;\n",
       "    }\n",
       "\n",
       "    .dataframe thead th {\n",
       "        text-align: right;\n",
       "    }\n",
       "</style>\n",
       "<table border=\"1\" class=\"dataframe\">\n",
       "  <thead>\n",
       "    <tr style=\"text-align: right;\">\n",
       "      <th></th>\n",
       "      <th>IW</th>\n",
       "      <th>IF</th>\n",
       "      <th>VW</th>\n",
       "      <th>FP</th>\n",
       "      <th>Depth</th>\n",
       "      <th>Width</th>\n",
       "    </tr>\n",
       "  </thead>\n",
       "  <tbody>\n",
       "    <tr>\n",
       "      <th>count</th>\n",
       "      <td>72.000000</td>\n",
       "      <td>72.000000</td>\n",
       "      <td>72.000000</td>\n",
       "      <td>72.000000</td>\n",
       "      <td>72.000000</td>\n",
       "      <td>72.000000</td>\n",
       "    </tr>\n",
       "    <tr>\n",
       "      <th>mean</th>\n",
       "      <td>45.666667</td>\n",
       "      <td>141.333333</td>\n",
       "      <td>8.638889</td>\n",
       "      <td>78.333333</td>\n",
       "      <td>1.195556</td>\n",
       "      <td>1.970417</td>\n",
       "    </tr>\n",
       "    <tr>\n",
       "      <th>std</th>\n",
       "      <td>1.678363</td>\n",
       "      <td>5.145763</td>\n",
       "      <td>2.061078</td>\n",
       "      <td>21.493530</td>\n",
       "      <td>0.225081</td>\n",
       "      <td>0.279040</td>\n",
       "    </tr>\n",
       "    <tr>\n",
       "      <th>min</th>\n",
       "      <td>43.000000</td>\n",
       "      <td>131.000000</td>\n",
       "      <td>4.500000</td>\n",
       "      <td>50.000000</td>\n",
       "      <td>0.800000</td>\n",
       "      <td>1.680000</td>\n",
       "    </tr>\n",
       "    <tr>\n",
       "      <th>25%</th>\n",
       "      <td>44.000000</td>\n",
       "      <td>139.000000</td>\n",
       "      <td>8.000000</td>\n",
       "      <td>60.000000</td>\n",
       "      <td>1.080000</td>\n",
       "      <td>1.760000</td>\n",
       "    </tr>\n",
       "    <tr>\n",
       "      <th>50%</th>\n",
       "      <td>45.500000</td>\n",
       "      <td>141.000000</td>\n",
       "      <td>9.000000</td>\n",
       "      <td>80.000000</td>\n",
       "      <td>1.200000</td>\n",
       "      <td>1.840000</td>\n",
       "    </tr>\n",
       "    <tr>\n",
       "      <th>75%</th>\n",
       "      <td>47.000000</td>\n",
       "      <td>146.000000</td>\n",
       "      <td>10.000000</td>\n",
       "      <td>80.000000</td>\n",
       "      <td>1.290000</td>\n",
       "      <td>2.050000</td>\n",
       "    </tr>\n",
       "    <tr>\n",
       "      <th>max</th>\n",
       "      <td>49.000000</td>\n",
       "      <td>150.000000</td>\n",
       "      <td>12.000000</td>\n",
       "      <td>125.000000</td>\n",
       "      <td>1.760000</td>\n",
       "      <td>2.600000</td>\n",
       "    </tr>\n",
       "  </tbody>\n",
       "</table>\n",
       "</div>"
      ],
      "text/plain": [
       "              IW          IF         VW          FP      Depth      Width\n",
       "count  72.000000   72.000000  72.000000   72.000000  72.000000  72.000000\n",
       "mean   45.666667  141.333333   8.638889   78.333333   1.195556   1.970417\n",
       "std     1.678363    5.145763   2.061078   21.493530   0.225081   0.279040\n",
       "min    43.000000  131.000000   4.500000   50.000000   0.800000   1.680000\n",
       "25%    44.000000  139.000000   8.000000   60.000000   1.080000   1.760000\n",
       "50%    45.500000  141.000000   9.000000   80.000000   1.200000   1.840000\n",
       "75%    47.000000  146.000000  10.000000   80.000000   1.290000   2.050000\n",
       "max    49.000000  150.000000  12.000000  125.000000   1.760000   2.600000"
      ]
     },
     "execution_count": 5,
     "metadata": {},
     "output_type": "execute_result"
    }
   ],
   "source": [
    "df.describe()"
   ]
  },
  {
   "cell_type": "markdown",
   "metadata": {
    "id": "gmmKYLg0Wsj5"
   },
   "source": [
    "Данные выглядят корректно."
   ]
  },
  {
   "cell_type": "markdown",
   "metadata": {
    "id": "4ZmTIZOyW1Qi"
   },
   "source": [
    "### Исследовательский анализ данных"
   ]
  },
  {
   "cell_type": "markdown",
   "metadata": {
    "id": "VGhTLG6lW8Nx"
   },
   "source": [
    "Разделим данные на зависимые и независимые переменные. Так как нас интересует размер сварного шва, данные, содержащиеся в столбцах 'Depth' и 'Width' будут целевыми, а остальные столбцы независимыми переменными."
   ]
  },
  {
   "cell_type": "code",
   "execution_count": 6,
   "metadata": {
    "executionInfo": {
     "elapsed": 25,
     "status": "ok",
     "timestamp": 1669041739929,
     "user": {
      "displayName": "Marat Gilmanov",
      "userId": "01427133271764782702"
     },
     "user_tz": -180
    },
    "id": "cmzWUZZqrZxw"
   },
   "outputs": [],
   "source": [
    "X = df.drop(columns=['Depth', 'Width'])\n",
    "y = df[['Depth', 'Width']]"
   ]
  },
  {
   "cell_type": "markdown",
   "metadata": {
    "id": "_qQZnEBdXt4k"
   },
   "source": [
    "Построим парную диаграмму для выявления зависимости между переменными."
   ]
  },
  {
   "cell_type": "code",
   "execution_count": 7,
   "metadata": {
    "colab": {
     "base_uri": "https://localhost:8080/",
     "height": 1000
    },
    "executionInfo": {
     "elapsed": 31459,
     "status": "ok",
     "timestamp": 1669041771364,
     "user": {
      "displayName": "Marat Gilmanov",
      "userId": "01427133271764782702"
     },
     "user_tz": -180
    },
    "id": "D3HRSk5eui9o",
    "outputId": "265b36b0-0676-4731-f8e6-6774286eafeb"
   },
   "outputs": [
    {
     "data": {
      "image/png": "[encoded data removed]",
      "text/plain": [
       "<Figure size 1500x1500 with 42 Axes>"
      ]
     },
     "metadata": {},
     "output_type": "display_data"
    }
   ],
   "source": [
    "sns.pairplot(df, diag_kind='kde');"
   ]
  },
  {
   "cell_type": "markdown",
   "metadata": {
    "id": "0GJ-9P3zYBhI"
   },
   "source": [
    "Какой либо однозначный вывод о наличии зависимости сделать сложно. Построим матрицу коррелляции."
   ]
  },
  {
   "cell_type": "code",
   "execution_count": 8,
   "metadata": {
    "colab": {
     "base_uri": "https://localhost:8080/",
     "height": 237
    },
    "executionInfo": {
     "elapsed": 24,
     "status": "ok",
     "timestamp": 1669041771365,
     "user": {
      "displayName": "Marat Gilmanov",
      "userId": "01427133271764782702"
     },
     "user_tz": -180
    },
    "id": "5XqDvQw2YIDA",
    "outputId": "90dd6b16-d842-455e-f343-0790985cc099"
   },
   "outputs": [
    {
     "data": {
      "text/html": [
       "<div>\n",
       "<style scoped>\n",
       "    .dataframe tbody tr th:only-of-type {\n",
       "        vertical-align: middle;\n",
       "    }\n",
       "\n",
       "    .dataframe tbody tr th {\n",
       "        vertical-align: top;\n",
       "    }\n",
       "\n",
       "    .dataframe thead th {\n",
       "        text-align: right;\n",
       "    }\n",
       "</style>\n",
       "<table border=\"1\" class=\"dataframe\">\n",
       "  <thead>\n",
       "    <tr style=\"text-align: right;\">\n",
       "      <th></th>\n",
       "      <th>IW</th>\n",
       "      <th>IF</th>\n",
       "      <th>VW</th>\n",
       "      <th>FP</th>\n",
       "      <th>Depth</th>\n",
       "      <th>Width</th>\n",
       "    </tr>\n",
       "  </thead>\n",
       "  <tbody>\n",
       "    <tr>\n",
       "      <th>IW</th>\n",
       "      <td>1.000000</td>\n",
       "      <td>-0.861073</td>\n",
       "      <td>-0.043430</td>\n",
       "      <td>0.835530</td>\n",
       "      <td>-0.289568</td>\n",
       "      <td>0.434869</td>\n",
       "    </tr>\n",
       "    <tr>\n",
       "      <th>IF</th>\n",
       "      <td>-0.861073</td>\n",
       "      <td>1.000000</td>\n",
       "      <td>0.115093</td>\n",
       "      <td>-0.980562</td>\n",
       "      <td>0.376084</td>\n",
       "      <td>-0.510167</td>\n",
       "    </tr>\n",
       "    <tr>\n",
       "      <th>VW</th>\n",
       "      <td>-0.043430</td>\n",
       "      <td>0.115093</td>\n",
       "      <td>1.000000</td>\n",
       "      <td>-0.001060</td>\n",
       "      <td>-0.671437</td>\n",
       "      <td>-0.874257</td>\n",
       "    </tr>\n",
       "    <tr>\n",
       "      <th>FP</th>\n",
       "      <td>0.835530</td>\n",
       "      <td>-0.980562</td>\n",
       "      <td>-0.001060</td>\n",
       "      <td>1.000000</td>\n",
       "      <td>-0.510748</td>\n",
       "      <td>0.412962</td>\n",
       "    </tr>\n",
       "    <tr>\n",
       "      <th>Depth</th>\n",
       "      <td>-0.289568</td>\n",
       "      <td>0.376084</td>\n",
       "      <td>-0.671437</td>\n",
       "      <td>-0.510748</td>\n",
       "      <td>1.000000</td>\n",
       "      <td>0.425391</td>\n",
       "    </tr>\n",
       "    <tr>\n",
       "      <th>Width</th>\n",
       "      <td>0.434869</td>\n",
       "      <td>-0.510167</td>\n",
       "      <td>-0.874257</td>\n",
       "      <td>0.412962</td>\n",
       "      <td>0.425391</td>\n",
       "      <td>1.000000</td>\n",
       "    </tr>\n",
       "  </tbody>\n",
       "</table>\n",
       "</div>"
      ],
      "text/plain": [
       "             IW        IF        VW        FP     Depth     Width\n",
       "IW     1.000000 -0.861073 -0.043430  0.835530 -0.289568  0.434869\n",
       "IF    -0.861073  1.000000  0.115093 -0.980562  0.376084 -0.510167\n",
       "VW    -0.043430  0.115093  1.000000 -0.001060 -0.671437 -0.874257\n",
       "FP     0.835530 -0.980562 -0.001060  1.000000 -0.510748  0.412962\n",
       "Depth -0.289568  0.376084 -0.671437 -0.510748  1.000000  0.425391\n",
       "Width  0.434869 -0.510167 -0.874257  0.412962  0.425391  1.000000"
      ]
     },
     "execution_count": 8,
     "metadata": {},
     "output_type": "execute_result"
    }
   ],
   "source": [
    "df.corr()"
   ]
  },
  {
   "cell_type": "markdown",
   "metadata": {
    "id": "UUl7oFeTf4tV"
   },
   "source": [
    "Видим высокую корреляцию между параметрами IW и FP, FP и IF, а также IW и IF, но так как входных значений мало, оставим всё как есть."
   ]
  },
  {
   "cell_type": "markdown",
   "metadata": {
    "id": "tjTGg1DBpp29"
   },
   "source": [
    "### Разработка модели машинного обучения"
   ]
  },
  {
   "cell_type": "markdown",
   "metadata": {},
   "source": [
    "#### Обучение нейронной сетью"
   ]
  },
  {
   "cell_type": "markdown",
   "metadata": {
    "id": "casQ1KV9py3F"
   },
   "source": [
    "Для оценки размера сварного шва построим модели отдельно для ширины и глубины."
   ]
  },
  {
   "cell_type": "markdown",
   "metadata": {
    "id": "fJwIcmMNp7-D"
   },
   "source": [
    "Разделим выборку на обучающую и тестовую в отношении 80/20 сначала для ширины (Width)."
   ]
  },
  {
   "cell_type": "code",
   "execution_count": 9,
   "metadata": {
    "executionInfo": {
     "elapsed": 21,
     "status": "ok",
     "timestamp": 1669041771367,
     "user": {
      "displayName": "Marat Gilmanov",
      "userId": "01427133271764782702"
     },
     "user_tz": -180
    },
    "id": "xj4ND0NmuaI3"
   },
   "outputs": [],
   "source": [
    "X_train_val, X_test, y_train_val, y_test = train_test_split(X, y['Width'], test_size=0.2, random_state=1)\n",
    "X_train, X_val, y_train, y_val = train_test_split(X_train_val, y_train_val, test_size=0.2, random_state=1)"
   ]
  },
  {
   "cell_type": "markdown",
   "metadata": {
    "id": "T9D-2chrqH5q"
   },
   "source": [
    "Произведем нормализацию полученных данных."
   ]
  },
  {
   "cell_type": "code",
   "execution_count": 10,
   "metadata": {
    "executionInfo": {
     "elapsed": 21,
     "status": "ok",
     "timestamp": 1669041771367,
     "user": {
      "displayName": "Marat Gilmanov",
      "userId": "01427133271764782702"
     },
     "user_tz": -180
    },
    "id": "0OvxWq0Cuz2D"
   },
   "outputs": [],
   "source": [
    "normalizer = tf.keras.layers.Normalization(axis=-1)"
   ]
  },
  {
   "cell_type": "code",
   "execution_count": 11,
   "metadata": {
    "executionInfo": {
     "elapsed": 21,
     "status": "ok",
     "timestamp": 1669041771367,
     "user": {
      "displayName": "Marat Gilmanov",
      "userId": "01427133271764782702"
     },
     "user_tz": -180
    },
    "id": "7WaS_Vrw-pXl"
   },
   "outputs": [],
   "source": [
    "normalizer.adapt(np.array(X))"
   ]
  },
  {
   "cell_type": "code",
   "execution_count": 12,
   "metadata": {
    "colab": {
     "base_uri": "https://localhost:8080/"
    },
    "executionInfo": {
     "elapsed": 21,
     "status": "ok",
     "timestamp": 1669041771368,
     "user": {
      "displayName": "Marat Gilmanov",
      "userId": "01427133271764782702"
     },
     "user_tz": -180
    },
    "id": "txpc7TB7-rXc",
    "outputId": "4632787b-05d4-4f07-fdab-19611b243d28"
   },
   "outputs": [
    {
     "name": "stdout",
     "output_type": "stream",
     "text": [
      "[[ 45.666664 141.33334    8.638889  78.33333 ]]\n"
     ]
    }
   ],
   "source": [
    "print(normalizer.mean.numpy())"
   ]
  },
  {
   "cell_type": "markdown",
   "metadata": {
    "id": "kET_YuK1qVb5"
   },
   "source": [
    "Построим функцию, которая на вход будет принимать нормализованные данные, а на выходе возвращать модель."
   ]
  },
  {
   "cell_type": "code",
   "execution_count": 13,
   "metadata": {
    "executionInfo": {
     "elapsed": 18,
     "status": "ok",
     "timestamp": 1669041771368,
     "user": {
      "displayName": "Marat Gilmanov",
      "userId": "01427133271764782702"
     },
     "user_tz": -180
    },
    "id": "S4o6L2ac_b79"
   },
   "outputs": [],
   "source": [
    "def build_and_compile_model(norm):\n",
    "    model = keras.Sequential([\n",
    "      norm,\n",
    "      layers.Dense(128, activation='relu'),\n",
    "      layers.Dense(128, activation='relu'),\n",
    "      layers.Dense(1)\n",
    "    ])\n",
    "\n",
    "    model.compile(loss='mean_absolute_error',\n",
    "                optimizer=tf.keras.optimizers.Adam(0.001))\n",
    "    return model"
   ]
  },
  {
   "cell_type": "code",
   "execution_count": 14,
   "metadata": {
    "colab": {
     "base_uri": "https://localhost:8080/"
    },
    "executionInfo": {
     "elapsed": 19,
     "status": "ok",
     "timestamp": 1669041771370,
     "user": {
      "displayName": "Marat Gilmanov",
      "userId": "01427133271764782702"
     },
     "user_tz": -180
    },
    "id": "TtXxlFcp-tqF",
    "outputId": "a4be70dd-038a-49e1-e0fd-fa0f6f001026"
   },
   "outputs": [
    {
     "name": "stdout",
     "output_type": "stream",
     "text": [
      "Model: \"sequential\"\n",
      "_________________________________________________________________\n",
      " Layer (type)                Output Shape              Param #   \n",
      "=================================================================\n",
      " normalization (Normalizatio  (None, 4)                9         \n",
      " n)                                                              \n",
      "                                                                 \n",
      " dense (Dense)               (None, 128)               640       \n",
      "                                                                 \n",
      " dense_1 (Dense)             (None, 128)               16512     \n",
      "                                                                 \n",
      " dense_2 (Dense)             (None, 1)                 129       \n",
      "                                                                 \n",
      "=================================================================\n",
      "Total params: 17,290\n",
      "Trainable params: 17,281\n",
      "Non-trainable params: 9\n",
      "_________________________________________________________________\n"
     ]
    }
   ],
   "source": [
    "dnn_model = build_and_compile_model(normalizer)\n",
    "dnn_model.summary()"
   ]
  },
  {
   "cell_type": "code",
   "execution_count": 15,
   "metadata": {
    "executionInfo": {
     "elapsed": 15,
     "status": "ok",
     "timestamp": 1669041771370,
     "user": {
      "displayName": "Marat Gilmanov",
      "userId": "01427133271764782702"
     },
     "user_tz": -180
    },
    "id": "jem9QUhwASMR"
   },
   "outputs": [],
   "source": [
    "def plot_loss(history):\n",
    "    sns.lineplot(data=history.history['loss'], label='loss') \n",
    "    sns.lineplot(data=history.history['val_loss'], label='val_loss')\n",
    "    plt.ylim([0, 2])\n",
    "    plt.xlabel('Эпоха')\n",
    "    plt.ylabel('MAE [MPG]')\n",
    "    plt.legend()\n",
    "    plt.grid(True)\n",
    "    plt.show()"
   ]
  },
  {
   "cell_type": "code",
   "execution_count": 16,
   "metadata": {
    "colab": {
     "base_uri": "https://localhost:8080/"
    },
    "executionInfo": {
     "elapsed": 11243,
     "status": "ok",
     "timestamp": 1669041782598,
     "user": {
      "displayName": "Marat Gilmanov",
      "userId": "01427133271764782702"
     },
     "user_tz": -180
    },
    "id": "9dhXenlR_enY",
    "outputId": "06445615-2ef2-484d-eecc-85fd8155aba6"
   },
   "outputs": [
    {
     "name": "stdout",
     "output_type": "stream",
     "text": [
      "Epoch 1/300\n",
      "2/2 [==============================] - 1s 157ms/step - loss: 2.0601 - val_loss: 1.8911\n",
      "Epoch 2/300\n",
      "2/2 [==============================] - 0s 32ms/step - loss: 1.8575 - val_loss: 1.7199\n",
      "Epoch 3/300\n",
      "2/2 [==============================] - 0s 27ms/step - loss: 1.6754 - val_loss: 1.5485\n",
      "Epoch 4/300\n",
      "2/2 [==============================] - 0s 27ms/step - loss: 1.4912 - val_loss: 1.3709\n",
      "Epoch 5/300\n",
      "2/2 [==============================] - 0s 28ms/step - loss: 1.3012 - val_loss: 1.1906\n",
      "Epoch 6/300\n",
      "2/2 [==============================] - 0s 28ms/step - loss: 1.1018 - val_loss: 1.0036\n",
      "Epoch 7/300\n",
      "2/2 [==============================] - 0s 29ms/step - loss: 0.8952 - val_loss: 0.8519\n",
      "Epoch 8/300\n",
      "2/2 [==============================] - 0s 29ms/step - loss: 0.6929 - val_loss: 0.7534\n",
      "Epoch 9/300\n",
      "2/2 [==============================] - 0s 27ms/step - loss: 0.5664 - val_loss: 0.6559\n",
      "Epoch 10/300\n",
      "2/2 [==============================] - 0s 26ms/step - loss: 0.4885 - val_loss: 0.5757\n",
      "Epoch 11/300\n",
      "2/2 [==============================] - 0s 27ms/step - loss: 0.4647 - val_loss: 0.5826\n",
      "Epoch 12/300\n",
      "2/2 [==============================] - 0s 27ms/step - loss: 0.4734 - val_loss: 0.5714\n",
      "Epoch 13/300\n",
      "2/2 [==============================] - 0s 27ms/step - loss: 0.4453 - val_loss: 0.5566\n",
      "Epoch 14/300\n",
      "2/2 [==============================] - 0s 28ms/step - loss: 0.4269 - val_loss: 0.5327\n",
      "Epoch 15/300\n",
      "2/2 [==============================] - 0s 31ms/step - loss: 0.3816 - val_loss: 0.4779\n",
      "Epoch 16/300\n",
      "2/2 [==============================] - 0s 27ms/step - loss: 0.3231 - val_loss: 0.4521\n",
      "Epoch 17/300\n",
      "2/2 [==============================] - 0s 29ms/step - loss: 0.2856 - val_loss: 0.4784\n",
      "Epoch 18/300\n",
      "2/2 [==============================] - 0s 28ms/step - loss: 0.2932 - val_loss: 0.4859\n",
      "Epoch 19/300\n",
      "2/2 [==============================] - 0s 26ms/step - loss: 0.2959 - val_loss: 0.4766\n",
      "Epoch 20/300\n",
      "2/2 [==============================] - 0s 28ms/step - loss: 0.2886 - val_loss: 0.4667\n",
      "Epoch 21/300\n",
      "2/2 [==============================] - 0s 28ms/step - loss: 0.2842 - val_loss: 0.4612\n",
      "Epoch 22/300\n",
      "2/2 [==============================] - 0s 28ms/step - loss: 0.2773 - val_loss: 0.4417\n",
      "Epoch 23/300\n",
      "2/2 [==============================] - 0s 28ms/step - loss: 0.2634 - val_loss: 0.4192\n",
      "Epoch 24/300\n",
      "2/2 [==============================] - 0s 29ms/step - loss: 0.2566 - val_loss: 0.4108\n",
      "Epoch 25/300\n",
      "2/2 [==============================] - 0s 28ms/step - loss: 0.2541 - val_loss: 0.4147\n",
      "Epoch 26/300\n",
      "2/2 [==============================] - 0s 29ms/step - loss: 0.2509 - val_loss: 0.4186\n",
      "Epoch 27/300\n",
      "2/2 [==============================] - 0s 29ms/step - loss: 0.2478 - val_loss: 0.4135\n",
      "Epoch 28/300\n",
      "2/2 [==============================] - 0s 29ms/step - loss: 0.2409 - val_loss: 0.4139\n",
      "Epoch 29/300\n",
      "2/2 [==============================] - 0s 28ms/step - loss: 0.2386 - val_loss: 0.4215\n",
      "Epoch 30/300\n",
      "2/2 [==============================] - 0s 29ms/step - loss: 0.2342 - val_loss: 0.4270\n",
      "Epoch 31/300\n",
      "2/2 [==============================] - 0s 29ms/step - loss: 0.2330 - val_loss: 0.4237\n",
      "Epoch 32/300\n",
      "2/2 [==============================] - 0s 28ms/step - loss: 0.2246 - val_loss: 0.4084\n",
      "Epoch 33/300\n",
      "2/2 [==============================] - 0s 30ms/step - loss: 0.2183 - val_loss: 0.4018\n",
      "Epoch 34/300\n",
      "2/2 [==============================] - 0s 26ms/step - loss: 0.2187 - val_loss: 0.4089\n",
      "Epoch 35/300\n",
      "2/2 [==============================] - 0s 27ms/step - loss: 0.2187 - val_loss: 0.4020\n",
      "Epoch 36/300\n",
      "2/2 [==============================] - 0s 28ms/step - loss: 0.2121 - val_loss: 0.3851\n",
      "Epoch 37/300\n",
      "2/2 [==============================] - 0s 28ms/step - loss: 0.2029 - val_loss: 0.3969\n",
      "Epoch 38/300\n",
      "2/2 [==============================] - 0s 28ms/step - loss: 0.2032 - val_loss: 0.4011\n",
      "Epoch 39/300\n",
      "2/2 [==============================] - 0s 29ms/step - loss: 0.2049 - val_loss: 0.3898\n",
      "Epoch 40/300\n",
      "2/2 [==============================] - 0s 26ms/step - loss: 0.1979 - val_loss: 0.3779\n",
      "Epoch 41/300\n",
      "2/2 [==============================] - 0s 27ms/step - loss: 0.1975 - val_loss: 0.3626\n",
      "Epoch 42/300\n",
      "2/2 [==============================] - 0s 27ms/step - loss: 0.1959 - val_loss: 0.3640\n",
      "Epoch 43/300\n",
      "2/2 [==============================] - 0s 28ms/step - loss: 0.1954 - val_loss: 0.3609\n",
      "Epoch 44/300\n",
      "2/2 [==============================] - 0s 27ms/step - loss: 0.1892 - val_loss: 0.3661\n",
      "Epoch 45/300\n",
      "2/2 [==============================] - 0s 28ms/step - loss: 0.1859 - val_loss: 0.3603\n",
      "Epoch 46/300\n",
      "2/2 [==============================] - 0s 28ms/step - loss: 0.1837 - val_loss: 0.3520\n",
      "Epoch 47/300\n",
      "2/2 [==============================] - 0s 27ms/step - loss: 0.1786 - val_loss: 0.3380\n",
      "Epoch 48/300\n",
      "2/2 [==============================] - 0s 27ms/step - loss: 0.1760 - val_loss: 0.3320\n",
      "Epoch 49/300\n",
      "2/2 [==============================] - 0s 27ms/step - loss: 0.1720 - val_loss: 0.3314\n",
      "Epoch 50/300\n",
      "2/2 [==============================] - 0s 27ms/step - loss: 0.1734 - val_loss: 0.3244\n",
      "Epoch 51/300\n",
      "2/2 [==============================] - 0s 27ms/step - loss: 0.1672 - val_loss: 0.3198\n",
      "Epoch 52/300\n",
      "2/2 [==============================] - 0s 28ms/step - loss: 0.1655 - val_loss: 0.3111\n",
      "Epoch 53/300\n",
      "2/2 [==============================] - 0s 28ms/step - loss: 0.1620 - val_loss: 0.3140\n",
      "Epoch 54/300\n",
      "2/2 [==============================] - 0s 28ms/step - loss: 0.1606 - val_loss: 0.3042\n",
      "Epoch 55/300\n",
      "2/2 [==============================] - 0s 27ms/step - loss: 0.1565 - val_loss: 0.2964\n",
      "Epoch 56/300\n",
      "2/2 [==============================] - 0s 29ms/step - loss: 0.1610 - val_loss: 0.2888\n",
      "Epoch 57/300\n",
      "2/2 [==============================] - 0s 27ms/step - loss: 0.1491 - val_loss: 0.2806\n",
      "Epoch 58/300\n",
      "2/2 [==============================] - 0s 28ms/step - loss: 0.1499 - val_loss: 0.2649\n",
      "Epoch 59/300\n",
      "2/2 [==============================] - 0s 27ms/step - loss: 0.1449 - val_loss: 0.2590\n",
      "Epoch 60/300\n",
      "2/2 [==============================] - 0s 29ms/step - loss: 0.1456 - val_loss: 0.2577\n",
      "Epoch 61/300\n",
      "2/2 [==============================] - 0s 29ms/step - loss: 0.1418 - val_loss: 0.2476\n",
      "Epoch 62/300\n",
      "2/2 [==============================] - 0s 27ms/step - loss: 0.1328 - val_loss: 0.2445\n",
      "Epoch 63/300\n",
      "2/2 [==============================] - 0s 28ms/step - loss: 0.1298 - val_loss: 0.2349\n",
      "Epoch 64/300\n",
      "2/2 [==============================] - 0s 28ms/step - loss: 0.1252 - val_loss: 0.2297\n",
      "Epoch 65/300\n",
      "2/2 [==============================] - 0s 28ms/step - loss: 0.1210 - val_loss: 0.2180\n",
      "Epoch 66/300\n",
      "2/2 [==============================] - 0s 28ms/step - loss: 0.1169 - val_loss: 0.2089\n",
      "Epoch 67/300\n",
      "2/2 [==============================] - 0s 26ms/step - loss: 0.1129 - val_loss: 0.2011\n",
      "Epoch 68/300\n",
      "2/2 [==============================] - 0s 28ms/step - loss: 0.1088 - val_loss: 0.1938\n",
      "Epoch 69/300\n",
      "2/2 [==============================] - 0s 27ms/step - loss: 0.1071 - val_loss: 0.1848\n",
      "Epoch 70/300\n",
      "2/2 [==============================] - 0s 27ms/step - loss: 0.1015 - val_loss: 0.1774\n",
      "Epoch 71/300\n",
      "2/2 [==============================] - 0s 28ms/step - loss: 0.0973 - val_loss: 0.1657\n",
      "Epoch 72/300\n",
      "2/2 [==============================] - 0s 27ms/step - loss: 0.0939 - val_loss: 0.1580\n",
      "Epoch 73/300\n",
      "2/2 [==============================] - 0s 26ms/step - loss: 0.0901 - val_loss: 0.1485\n",
      "Epoch 74/300\n",
      "2/2 [==============================] - 0s 27ms/step - loss: 0.0870 - val_loss: 0.1381\n",
      "Epoch 75/300\n",
      "2/2 [==============================] - 0s 27ms/step - loss: 0.0836 - val_loss: 0.1415\n",
      "Epoch 76/300\n",
      "2/2 [==============================] - 0s 27ms/step - loss: 0.0818 - val_loss: 0.1372\n",
      "Epoch 77/300\n",
      "2/2 [==============================] - 0s 28ms/step - loss: 0.0775 - val_loss: 0.1272\n",
      "Epoch 78/300\n",
      "2/2 [==============================] - 0s 28ms/step - loss: 0.0752 - val_loss: 0.1338\n",
      "Epoch 79/300\n",
      "2/2 [==============================] - 0s 28ms/step - loss: 0.0790 - val_loss: 0.1314\n",
      "Epoch 80/300\n",
      "2/2 [==============================] - 0s 27ms/step - loss: 0.0712 - val_loss: 0.1297\n",
      "Epoch 81/300\n",
      "2/2 [==============================] - 0s 26ms/step - loss: 0.0744 - val_loss: 0.1289\n",
      "Epoch 82/300\n",
      "2/2 [==============================] - 0s 28ms/step - loss: 0.0733 - val_loss: 0.1134\n",
      "Epoch 83/300\n",
      "2/2 [==============================] - 0s 28ms/step - loss: 0.0670 - val_loss: 0.1174\n",
      "Epoch 84/300\n",
      "2/2 [==============================] - 0s 27ms/step - loss: 0.0635 - val_loss: 0.1191\n",
      "Epoch 85/300\n",
      "2/2 [==============================] - 0s 27ms/step - loss: 0.0648 - val_loss: 0.1180\n",
      "Epoch 86/300\n",
      "2/2 [==============================] - 0s 28ms/step - loss: 0.0607 - val_loss: 0.1102\n",
      "Epoch 87/300\n",
      "2/2 [==============================] - 0s 28ms/step - loss: 0.0604 - val_loss: 0.1015\n",
      "Epoch 88/300\n",
      "2/2 [==============================] - 0s 27ms/step - loss: 0.0588 - val_loss: 0.1088\n",
      "Epoch 89/300\n",
      "2/2 [==============================] - 0s 29ms/step - loss: 0.0543 - val_loss: 0.1096\n",
      "Epoch 90/300\n",
      "2/2 [==============================] - 0s 28ms/step - loss: 0.0567 - val_loss: 0.1022\n",
      "Epoch 91/300\n",
      "2/2 [==============================] - 0s 28ms/step - loss: 0.0557 - val_loss: 0.1003\n",
      "Epoch 92/300\n",
      "2/2 [==============================] - 0s 29ms/step - loss: 0.0510 - val_loss: 0.0959\n",
      "Epoch 93/300\n",
      "2/2 [==============================] - 0s 27ms/step - loss: 0.0455 - val_loss: 0.1009\n",
      "Epoch 94/300\n",
      "2/2 [==============================] - 0s 25ms/step - loss: 0.0537 - val_loss: 0.0946\n",
      "Epoch 95/300\n",
      "2/2 [==============================] - 0s 28ms/step - loss: 0.0491 - val_loss: 0.1052\n",
      "Epoch 96/300\n",
      "2/2 [==============================] - 0s 28ms/step - loss: 0.0518 - val_loss: 0.1018\n",
      "Epoch 97/300\n",
      "2/2 [==============================] - 0s 28ms/step - loss: 0.0476 - val_loss: 0.0893\n",
      "Epoch 98/300\n",
      "2/2 [==============================] - 0s 28ms/step - loss: 0.0412 - val_loss: 0.0814\n",
      "Epoch 99/300\n",
      "2/2 [==============================] - 0s 27ms/step - loss: 0.0454 - val_loss: 0.0816\n",
      "Epoch 100/300\n",
      "2/2 [==============================] - 0s 26ms/step - loss: 0.0428 - val_loss: 0.0820\n",
      "Epoch 101/300\n",
      "2/2 [==============================] - 0s 27ms/step - loss: 0.0443 - val_loss: 0.0865\n",
      "Epoch 102/300\n",
      "2/2 [==============================] - 0s 28ms/step - loss: 0.0457 - val_loss: 0.0821\n",
      "Epoch 103/300\n",
      "2/2 [==============================] - 0s 28ms/step - loss: 0.0405 - val_loss: 0.0850\n",
      "Epoch 104/300\n",
      "2/2 [==============================] - 0s 28ms/step - loss: 0.0476 - val_loss: 0.0859\n",
      "Epoch 105/300\n",
      "2/2 [==============================] - 0s 27ms/step - loss: 0.0465 - val_loss: 0.0758\n",
      "Epoch 106/300\n",
      "2/2 [==============================] - 0s 28ms/step - loss: 0.0436 - val_loss: 0.0907\n",
      "Epoch 107/300\n",
      "2/2 [==============================] - 0s 27ms/step - loss: 0.0555 - val_loss: 0.0819\n",
      "Epoch 108/300\n",
      "2/2 [==============================] - 0s 29ms/step - loss: 0.0458 - val_loss: 0.0922\n",
      "Epoch 109/300\n",
      "2/2 [==============================] - 0s 26ms/step - loss: 0.0560 - val_loss: 0.0878\n",
      "Epoch 110/300\n",
      "2/2 [==============================] - 0s 27ms/step - loss: 0.0419 - val_loss: 0.0896\n",
      "Epoch 111/300\n",
      "2/2 [==============================] - 0s 27ms/step - loss: 0.0396 - val_loss: 0.0888\n",
      "Epoch 112/300\n",
      "2/2 [==============================] - 0s 26ms/step - loss: 0.0428 - val_loss: 0.0872\n",
      "Epoch 113/300\n",
      "2/2 [==============================] - 0s 27ms/step - loss: 0.0418 - val_loss: 0.0800\n",
      "Epoch 114/300\n",
      "2/2 [==============================] - 0s 26ms/step - loss: 0.0395 - val_loss: 0.0831\n",
      "Epoch 115/300\n",
      "2/2 [==============================] - 0s 27ms/step - loss: 0.0414 - val_loss: 0.0771\n",
      "Epoch 116/300\n",
      "2/2 [==============================] - 0s 28ms/step - loss: 0.0411 - val_loss: 0.0745\n",
      "Epoch 117/300\n",
      "2/2 [==============================] - 0s 27ms/step - loss: 0.0387 - val_loss: 0.0817\n",
      "Epoch 118/300\n",
      "2/2 [==============================] - 0s 28ms/step - loss: 0.0388 - val_loss: 0.0868\n",
      "Epoch 119/300\n",
      "2/2 [==============================] - 0s 28ms/step - loss: 0.0395 - val_loss: 0.0748\n",
      "Epoch 120/300\n",
      "2/2 [==============================] - 0s 26ms/step - loss: 0.0372 - val_loss: 0.0789\n",
      "Epoch 121/300\n",
      "2/2 [==============================] - 0s 26ms/step - loss: 0.0444 - val_loss: 0.0710\n",
      "Epoch 122/300\n",
      "2/2 [==============================] - 0s 28ms/step - loss: 0.0458 - val_loss: 0.0743\n",
      "Epoch 123/300\n",
      "2/2 [==============================] - 0s 27ms/step - loss: 0.0347 - val_loss: 0.0806\n",
      "Epoch 124/300\n",
      "2/2 [==============================] - 0s 27ms/step - loss: 0.0506 - val_loss: 0.0810\n",
      "Epoch 125/300\n",
      "2/2 [==============================] - 0s 27ms/step - loss: 0.0479 - val_loss: 0.0874\n",
      "Epoch 126/300\n",
      "2/2 [==============================] - 0s 28ms/step - loss: 0.0432 - val_loss: 0.0899\n",
      "Epoch 127/300\n",
      "2/2 [==============================] - 0s 28ms/step - loss: 0.0473 - val_loss: 0.0947\n",
      "Epoch 128/300\n",
      "2/2 [==============================] - 0s 26ms/step - loss: 0.0441 - val_loss: 0.0807\n",
      "Epoch 129/300\n",
      "2/2 [==============================] - 0s 27ms/step - loss: 0.0380 - val_loss: 0.0802\n",
      "Epoch 130/300\n",
      "2/2 [==============================] - 0s 27ms/step - loss: 0.0484 - val_loss: 0.0784\n",
      "Epoch 131/300\n",
      "2/2 [==============================] - 0s 27ms/step - loss: 0.0443 - val_loss: 0.0789\n",
      "Epoch 132/300\n",
      "2/2 [==============================] - 0s 27ms/step - loss: 0.0334 - val_loss: 0.0862\n",
      "Epoch 133/300\n",
      "2/2 [==============================] - 0s 27ms/step - loss: 0.0398 - val_loss: 0.0784\n",
      "Epoch 134/300\n",
      "2/2 [==============================] - 0s 28ms/step - loss: 0.0393 - val_loss: 0.0788\n",
      "Epoch 135/300\n",
      "2/2 [==============================] - 0s 27ms/step - loss: 0.0347 - val_loss: 0.0774\n",
      "Epoch 136/300\n",
      "2/2 [==============================] - 0s 28ms/step - loss: 0.0337 - val_loss: 0.0807\n",
      "Epoch 137/300\n",
      "2/2 [==============================] - 0s 27ms/step - loss: 0.0354 - val_loss: 0.0745\n",
      "Epoch 138/300\n",
      "2/2 [==============================] - 0s 26ms/step - loss: 0.0330 - val_loss: 0.0758\n",
      "Epoch 139/300\n",
      "2/2 [==============================] - 0s 27ms/step - loss: 0.0351 - val_loss: 0.0773\n",
      "Epoch 140/300\n",
      "2/2 [==============================] - 0s 26ms/step - loss: 0.0345 - val_loss: 0.0779\n",
      "Epoch 141/300\n",
      "2/2 [==============================] - 0s 27ms/step - loss: 0.0350 - val_loss: 0.0828\n",
      "Epoch 142/300\n",
      "2/2 [==============================] - 0s 28ms/step - loss: 0.0322 - val_loss: 0.0805\n",
      "Epoch 143/300\n",
      "2/2 [==============================] - 0s 28ms/step - loss: 0.0368 - val_loss: 0.0851\n",
      "Epoch 144/300\n",
      "2/2 [==============================] - 0s 28ms/step - loss: 0.0417 - val_loss: 0.0818\n",
      "Epoch 145/300\n",
      "2/2 [==============================] - 0s 26ms/step - loss: 0.0376 - val_loss: 0.0884\n",
      "Epoch 146/300\n",
      "2/2 [==============================] - 0s 29ms/step - loss: 0.0407 - val_loss: 0.0812\n",
      "Epoch 147/300\n",
      "2/2 [==============================] - 0s 27ms/step - loss: 0.0373 - val_loss: 0.0838\n",
      "Epoch 148/300\n",
      "2/2 [==============================] - 0s 26ms/step - loss: 0.0371 - val_loss: 0.0821\n",
      "Epoch 149/300\n",
      "2/2 [==============================] - 0s 27ms/step - loss: 0.0399 - val_loss: 0.0826\n",
      "Epoch 150/300\n",
      "2/2 [==============================] - 0s 28ms/step - loss: 0.0321 - val_loss: 0.0871\n",
      "Epoch 151/300\n",
      "2/2 [==============================] - 0s 26ms/step - loss: 0.0436 - val_loss: 0.0911\n",
      "Epoch 152/300\n",
      "2/2 [==============================] - 0s 28ms/step - loss: 0.0445 - val_loss: 0.0871\n",
      "Epoch 153/300\n",
      "2/2 [==============================] - 0s 26ms/step - loss: 0.0452 - val_loss: 0.0840\n",
      "Epoch 154/300\n",
      "2/2 [==============================] - 0s 26ms/step - loss: 0.0385 - val_loss: 0.0731\n",
      "Epoch 155/300\n",
      "2/2 [==============================] - 0s 28ms/step - loss: 0.0378 - val_loss: 0.0724\n",
      "Epoch 156/300\n",
      "2/2 [==============================] - 0s 27ms/step - loss: 0.0346 - val_loss: 0.0742\n",
      "Epoch 157/300\n",
      "2/2 [==============================] - 0s 27ms/step - loss: 0.0388 - val_loss: 0.0724\n",
      "Epoch 158/300\n",
      "2/2 [==============================] - 0s 26ms/step - loss: 0.0344 - val_loss: 0.0806\n",
      "Epoch 159/300\n",
      "2/2 [==============================] - 0s 28ms/step - loss: 0.0363 - val_loss: 0.0827\n",
      "Epoch 160/300\n",
      "2/2 [==============================] - 0s 29ms/step - loss: 0.0334 - val_loss: 0.0827\n",
      "Epoch 161/300\n",
      "2/2 [==============================] - 0s 27ms/step - loss: 0.0315 - val_loss: 0.0899\n",
      "Epoch 162/300\n",
      "2/2 [==============================] - 0s 25ms/step - loss: 0.0372 - val_loss: 0.0796\n",
      "Epoch 163/300\n",
      "2/2 [==============================] - 0s 28ms/step - loss: 0.0349 - val_loss: 0.0787\n",
      "Epoch 164/300\n",
      "2/2 [==============================] - 0s 39ms/step - loss: 0.0397 - val_loss: 0.0740\n",
      "Epoch 165/300\n",
      "2/2 [==============================] - 0s 32ms/step - loss: 0.0375 - val_loss: 0.0867\n",
      "Epoch 166/300\n",
      "2/2 [==============================] - 0s 28ms/step - loss: 0.0464 - val_loss: 0.0785\n",
      "Epoch 167/300\n",
      "2/2 [==============================] - 0s 27ms/step - loss: 0.0311 - val_loss: 0.0900\n",
      "Epoch 168/300\n",
      "2/2 [==============================] - 0s 27ms/step - loss: 0.0514 - val_loss: 0.0830\n",
      "Epoch 169/300\n",
      "2/2 [==============================] - 0s 26ms/step - loss: 0.0405 - val_loss: 0.1016\n",
      "Epoch 170/300\n",
      "2/2 [==============================] - 0s 27ms/step - loss: 0.0569 - val_loss: 0.0939\n",
      "Epoch 171/300\n",
      "2/2 [==============================] - 0s 28ms/step - loss: 0.0453 - val_loss: 0.0881\n",
      "Epoch 172/300\n",
      "2/2 [==============================] - 0s 26ms/step - loss: 0.0473 - val_loss: 0.0792\n",
      "Epoch 173/300\n",
      "2/2 [==============================] - 0s 28ms/step - loss: 0.0391 - val_loss: 0.0883\n",
      "Epoch 174/300\n",
      "2/2 [==============================] - 0s 27ms/step - loss: 0.0541 - val_loss: 0.0847\n",
      "Epoch 175/300\n",
      "2/2 [==============================] - 0s 28ms/step - loss: 0.0468 - val_loss: 0.0813\n",
      "Epoch 176/300\n",
      "2/2 [==============================] - 0s 28ms/step - loss: 0.0448 - val_loss: 0.0894\n",
      "Epoch 177/300\n",
      "2/2 [==============================] - 0s 27ms/step - loss: 0.0484 - val_loss: 0.0885\n",
      "Epoch 178/300\n",
      "2/2 [==============================] - 0s 30ms/step - loss: 0.0480 - val_loss: 0.1034\n",
      "Epoch 179/300\n",
      "2/2 [==============================] - 0s 26ms/step - loss: 0.0577 - val_loss: 0.0945\n",
      "Epoch 180/300\n",
      "2/2 [==============================] - 0s 27ms/step - loss: 0.0444 - val_loss: 0.0914\n",
      "Epoch 181/300\n",
      "2/2 [==============================] - 0s 27ms/step - loss: 0.0552 - val_loss: 0.0959\n",
      "Epoch 182/300\n",
      "2/2 [==============================] - 0s 27ms/step - loss: 0.0467 - val_loss: 0.0863\n",
      "Epoch 183/300\n",
      "2/2 [==============================] - 0s 27ms/step - loss: 0.0425 - val_loss: 0.0818\n",
      "Epoch 184/300\n",
      "2/2 [==============================] - 0s 28ms/step - loss: 0.0364 - val_loss: 0.0732\n",
      "Epoch 185/300\n",
      "2/2 [==============================] - 0s 29ms/step - loss: 0.0323 - val_loss: 0.0749\n",
      "Epoch 186/300\n",
      "2/2 [==============================] - 0s 28ms/step - loss: 0.0361 - val_loss: 0.0709\n",
      "Epoch 187/300\n",
      "2/2 [==============================] - 0s 27ms/step - loss: 0.0336 - val_loss: 0.0784\n",
      "Epoch 188/300\n",
      "2/2 [==============================] - 0s 27ms/step - loss: 0.0413 - val_loss: 0.0778\n",
      "Epoch 189/300\n",
      "2/2 [==============================] - 0s 28ms/step - loss: 0.0355 - val_loss: 0.0788\n",
      "Epoch 190/300\n",
      "2/2 [==============================] - 0s 27ms/step - loss: 0.0380 - val_loss: 0.0772\n",
      "Epoch 191/300\n",
      "2/2 [==============================] - 0s 28ms/step - loss: 0.0323 - val_loss: 0.0805\n",
      "Epoch 192/300\n",
      "2/2 [==============================] - 0s 27ms/step - loss: 0.0386 - val_loss: 0.0781\n",
      "Epoch 193/300\n",
      "2/2 [==============================] - 0s 28ms/step - loss: 0.0323 - val_loss: 0.0786\n",
      "Epoch 194/300\n",
      "2/2 [==============================] - 0s 28ms/step - loss: 0.0396 - val_loss: 0.0755\n",
      "Epoch 195/300\n",
      "2/2 [==============================] - 0s 27ms/step - loss: 0.0426 - val_loss: 0.0767\n",
      "Epoch 196/300\n",
      "2/2 [==============================] - 0s 28ms/step - loss: 0.0394 - val_loss: 0.0790\n",
      "Epoch 197/300\n",
      "2/2 [==============================] - 0s 27ms/step - loss: 0.0349 - val_loss: 0.0836\n",
      "Epoch 198/300\n",
      "2/2 [==============================] - 0s 27ms/step - loss: 0.0371 - val_loss: 0.0866\n",
      "Epoch 199/300\n",
      "2/2 [==============================] - 0s 28ms/step - loss: 0.0357 - val_loss: 0.0846\n",
      "Epoch 200/300\n",
      "2/2 [==============================] - 0s 26ms/step - loss: 0.0389 - val_loss: 0.0814\n",
      "Epoch 201/300\n",
      "2/2 [==============================] - 0s 27ms/step - loss: 0.0383 - val_loss: 0.0767\n",
      "Epoch 202/300\n",
      "2/2 [==============================] - 0s 27ms/step - loss: 0.0327 - val_loss: 0.0838\n",
      "Epoch 203/300\n",
      "2/2 [==============================] - 0s 28ms/step - loss: 0.0374 - val_loss: 0.0782\n",
      "Epoch 204/300\n",
      "2/2 [==============================] - 0s 26ms/step - loss: 0.0346 - val_loss: 0.0725\n",
      "Epoch 205/300\n",
      "2/2 [==============================] - 0s 28ms/step - loss: 0.0336 - val_loss: 0.0739\n",
      "Epoch 206/300\n",
      "2/2 [==============================] - 0s 28ms/step - loss: 0.0357 - val_loss: 0.0730\n",
      "Epoch 207/300\n",
      "2/2 [==============================] - 0s 28ms/step - loss: 0.0318 - val_loss: 0.0769\n",
      "Epoch 208/300\n",
      "2/2 [==============================] - 0s 26ms/step - loss: 0.0333 - val_loss: 0.0794\n",
      "Epoch 209/300\n",
      "2/2 [==============================] - 0s 27ms/step - loss: 0.0339 - val_loss: 0.0812\n",
      "Epoch 210/300\n",
      "2/2 [==============================] - 0s 27ms/step - loss: 0.0323 - val_loss: 0.0867\n",
      "Epoch 211/300\n",
      "2/2 [==============================] - 0s 26ms/step - loss: 0.0337 - val_loss: 0.0851\n",
      "Epoch 212/300\n",
      "2/2 [==============================] - 0s 27ms/step - loss: 0.0337 - val_loss: 0.0796\n",
      "Epoch 213/300\n",
      "2/2 [==============================] - 0s 26ms/step - loss: 0.0316 - val_loss: 0.0837\n",
      "Epoch 214/300\n",
      "2/2 [==============================] - 0s 27ms/step - loss: 0.0370 - val_loss: 0.0855\n",
      "Epoch 215/300\n",
      "2/2 [==============================] - 0s 25ms/step - loss: 0.0363 - val_loss: 0.0763\n",
      "Epoch 216/300\n",
      "2/2 [==============================] - 0s 28ms/step - loss: 0.0319 - val_loss: 0.0820\n",
      "Epoch 217/300\n",
      "2/2 [==============================] - 0s 27ms/step - loss: 0.0357 - val_loss: 0.0837\n",
      "Epoch 218/300\n",
      "2/2 [==============================] - 0s 28ms/step - loss: 0.0351 - val_loss: 0.0784\n",
      "Epoch 219/300\n",
      "2/2 [==============================] - 0s 28ms/step - loss: 0.0311 - val_loss: 0.0794\n",
      "Epoch 220/300\n",
      "2/2 [==============================] - 0s 27ms/step - loss: 0.0366 - val_loss: 0.0795\n",
      "Epoch 221/300\n",
      "2/2 [==============================] - 0s 27ms/step - loss: 0.0356 - val_loss: 0.0749\n",
      "Epoch 222/300\n",
      "2/2 [==============================] - 0s 26ms/step - loss: 0.0317 - val_loss: 0.0786\n",
      "Epoch 223/300\n",
      "2/2 [==============================] - 0s 27ms/step - loss: 0.0367 - val_loss: 0.0760\n",
      "Epoch 224/300\n",
      "2/2 [==============================] - 0s 26ms/step - loss: 0.0327 - val_loss: 0.0811\n",
      "Epoch 225/300\n",
      "2/2 [==============================] - 0s 27ms/step - loss: 0.0370 - val_loss: 0.0833\n",
      "Epoch 226/300\n",
      "2/2 [==============================] - 0s 27ms/step - loss: 0.0356 - val_loss: 0.0833\n",
      "Epoch 227/300\n",
      "2/2 [==============================] - 0s 28ms/step - loss: 0.0321 - val_loss: 0.0806\n",
      "Epoch 228/300\n",
      "2/2 [==============================] - 0s 27ms/step - loss: 0.0358 - val_loss: 0.0790\n",
      "Epoch 229/300\n",
      "2/2 [==============================] - 0s 28ms/step - loss: 0.0339 - val_loss: 0.0772\n",
      "Epoch 230/300\n",
      "2/2 [==============================] - 0s 27ms/step - loss: 0.0377 - val_loss: 0.0762\n",
      "Epoch 231/300\n",
      "2/2 [==============================] - 0s 29ms/step - loss: 0.0353 - val_loss: 0.0812\n",
      "Epoch 232/300\n",
      "2/2 [==============================] - 0s 27ms/step - loss: 0.0370 - val_loss: 0.0752\n",
      "Epoch 233/300\n",
      "2/2 [==============================] - 0s 25ms/step - loss: 0.0313 - val_loss: 0.0760\n",
      "Epoch 234/300\n",
      "2/2 [==============================] - 0s 28ms/step - loss: 0.0345 - val_loss: 0.0814\n",
      "Epoch 235/300\n",
      "2/2 [==============================] - 0s 26ms/step - loss: 0.0345 - val_loss: 0.0784\n",
      "Epoch 236/300\n",
      "2/2 [==============================] - 0s 28ms/step - loss: 0.0315 - val_loss: 0.0864\n",
      "Epoch 237/300\n",
      "2/2 [==============================] - 0s 27ms/step - loss: 0.0343 - val_loss: 0.0796\n",
      "Epoch 238/300\n",
      "2/2 [==============================] - 0s 28ms/step - loss: 0.0331 - val_loss: 0.0763\n",
      "Epoch 239/300\n",
      "2/2 [==============================] - 0s 28ms/step - loss: 0.0327 - val_loss: 0.0748\n",
      "Epoch 240/300\n",
      "2/2 [==============================] - 0s 26ms/step - loss: 0.0403 - val_loss: 0.0771\n",
      "Epoch 241/300\n",
      "2/2 [==============================] - 0s 26ms/step - loss: 0.0368 - val_loss: 0.0806\n",
      "Epoch 242/300\n",
      "2/2 [==============================] - 0s 27ms/step - loss: 0.0382 - val_loss: 0.0820\n",
      "Epoch 243/300\n",
      "2/2 [==============================] - 0s 27ms/step - loss: 0.0371 - val_loss: 0.0894\n",
      "Epoch 244/300\n",
      "2/2 [==============================] - 0s 27ms/step - loss: 0.0388 - val_loss: 0.0898\n",
      "Epoch 245/300\n",
      "2/2 [==============================] - 0s 29ms/step - loss: 0.0361 - val_loss: 0.0910\n",
      "Epoch 246/300\n",
      "2/2 [==============================] - 0s 28ms/step - loss: 0.0367 - val_loss: 0.0825\n",
      "Epoch 247/300\n",
      "2/2 [==============================] - 0s 27ms/step - loss: 0.0339 - val_loss: 0.0800\n",
      "Epoch 248/300\n",
      "2/2 [==============================] - 0s 28ms/step - loss: 0.0366 - val_loss: 0.0745\n",
      "Epoch 249/300\n",
      "2/2 [==============================] - 0s 27ms/step - loss: 0.0383 - val_loss: 0.0737\n",
      "Epoch 250/300\n",
      "2/2 [==============================] - 0s 27ms/step - loss: 0.0394 - val_loss: 0.0756\n",
      "Epoch 251/300\n",
      "2/2 [==============================] - 0s 27ms/step - loss: 0.0356 - val_loss: 0.0782\n",
      "Epoch 252/300\n",
      "2/2 [==============================] - 0s 27ms/step - loss: 0.0342 - val_loss: 0.0836\n",
      "Epoch 253/300\n",
      "2/2 [==============================] - 0s 26ms/step - loss: 0.0393 - val_loss: 0.0830\n",
      "Epoch 254/300\n",
      "2/2 [==============================] - 0s 27ms/step - loss: 0.0344 - val_loss: 0.0826\n",
      "Epoch 255/300\n",
      "2/2 [==============================] - 0s 27ms/step - loss: 0.0326 - val_loss: 0.0782\n",
      "Epoch 256/300\n",
      "2/2 [==============================] - 0s 28ms/step - loss: 0.0403 - val_loss: 0.0793\n",
      "Epoch 257/300\n",
      "2/2 [==============================] - 0s 28ms/step - loss: 0.0419 - val_loss: 0.0780\n",
      "Epoch 258/300\n",
      "2/2 [==============================] - 0s 28ms/step - loss: 0.0390 - val_loss: 0.0760\n",
      "Epoch 259/300\n",
      "2/2 [==============================] - 0s 27ms/step - loss: 0.0367 - val_loss: 0.0798\n",
      "Epoch 260/300\n",
      "2/2 [==============================] - 0s 27ms/step - loss: 0.0387 - val_loss: 0.0764\n",
      "Epoch 261/300\n",
      "2/2 [==============================] - 0s 28ms/step - loss: 0.0381 - val_loss: 0.0886\n",
      "Epoch 262/300\n",
      "2/2 [==============================] - 0s 27ms/step - loss: 0.0415 - val_loss: 0.0945\n",
      "Epoch 263/300\n",
      "2/2 [==============================] - 0s 28ms/step - loss: 0.0481 - val_loss: 0.0858\n",
      "Epoch 264/300\n",
      "2/2 [==============================] - 0s 28ms/step - loss: 0.0367 - val_loss: 0.0755\n",
      "Epoch 265/300\n",
      "2/2 [==============================] - 0s 28ms/step - loss: 0.0388 - val_loss: 0.0787\n",
      "Epoch 266/300\n",
      "2/2 [==============================] - 0s 27ms/step - loss: 0.0372 - val_loss: 0.0762\n",
      "Epoch 267/300\n",
      "2/2 [==============================] - 0s 27ms/step - loss: 0.0358 - val_loss: 0.0778\n",
      "Epoch 268/300\n",
      "2/2 [==============================] - 0s 27ms/step - loss: 0.0425 - val_loss: 0.0834\n",
      "Epoch 269/300\n",
      "2/2 [==============================] - 0s 27ms/step - loss: 0.0416 - val_loss: 0.0902\n",
      "Epoch 270/300\n",
      "2/2 [==============================] - 0s 26ms/step - loss: 0.0434 - val_loss: 0.0795\n",
      "Epoch 271/300\n",
      "2/2 [==============================] - 0s 26ms/step - loss: 0.0352 - val_loss: 0.0941\n",
      "Epoch 272/300\n",
      "2/2 [==============================] - 0s 27ms/step - loss: 0.0438 - val_loss: 0.0829\n",
      "Epoch 273/300\n",
      "2/2 [==============================] - 0s 27ms/step - loss: 0.0418 - val_loss: 0.0799\n",
      "Epoch 274/300\n",
      "2/2 [==============================] - 0s 27ms/step - loss: 0.0327 - val_loss: 0.0818\n",
      "Epoch 275/300\n",
      "2/2 [==============================] - 0s 27ms/step - loss: 0.0384 - val_loss: 0.0752\n",
      "Epoch 276/300\n",
      "2/2 [==============================] - 0s 27ms/step - loss: 0.0378 - val_loss: 0.0761\n",
      "Epoch 277/300\n",
      "2/2 [==============================] - 0s 27ms/step - loss: 0.0328 - val_loss: 0.0829\n",
      "Epoch 278/300\n",
      "2/2 [==============================] - 0s 27ms/step - loss: 0.0410 - val_loss: 0.0825\n",
      "Epoch 279/300\n",
      "2/2 [==============================] - 0s 26ms/step - loss: 0.0328 - val_loss: 0.0786\n",
      "Epoch 280/300\n",
      "2/2 [==============================] - 0s 28ms/step - loss: 0.0345 - val_loss: 0.0812\n",
      "Epoch 281/300\n",
      "2/2 [==============================] - 0s 29ms/step - loss: 0.0380 - val_loss: 0.0769\n",
      "Epoch 282/300\n",
      "2/2 [==============================] - 0s 29ms/step - loss: 0.0319 - val_loss: 0.0771\n",
      "Epoch 283/300\n",
      "2/2 [==============================] - 0s 28ms/step - loss: 0.0352 - val_loss: 0.0822\n",
      "Epoch 284/300\n",
      "2/2 [==============================] - 0s 27ms/step - loss: 0.0337 - val_loss: 0.0763\n",
      "Epoch 285/300\n",
      "2/2 [==============================] - 0s 28ms/step - loss: 0.0317 - val_loss: 0.0814\n",
      "Epoch 286/300\n",
      "2/2 [==============================] - 0s 28ms/step - loss: 0.0370 - val_loss: 0.0811\n",
      "Epoch 287/300\n",
      "2/2 [==============================] - 0s 26ms/step - loss: 0.0367 - val_loss: 0.0810\n",
      "Epoch 288/300\n",
      "2/2 [==============================] - 0s 27ms/step - loss: 0.0365 - val_loss: 0.0859\n",
      "Epoch 289/300\n",
      "2/2 [==============================] - 0s 26ms/step - loss: 0.0338 - val_loss: 0.0839\n",
      "Epoch 290/300\n",
      "2/2 [==============================] - 0s 27ms/step - loss: 0.0375 - val_loss: 0.0836\n",
      "Epoch 291/300\n",
      "2/2 [==============================] - 0s 26ms/step - loss: 0.0363 - val_loss: 0.0767\n",
      "Epoch 292/300\n",
      "2/2 [==============================] - 0s 26ms/step - loss: 0.0324 - val_loss: 0.0750\n",
      "Epoch 293/300\n",
      "2/2 [==============================] - 0s 27ms/step - loss: 0.0348 - val_loss: 0.0768\n",
      "Epoch 294/300\n",
      "2/2 [==============================] - 0s 27ms/step - loss: 0.0370 - val_loss: 0.0751\n",
      "Epoch 295/300\n",
      "2/2 [==============================] - 0s 27ms/step - loss: 0.0354 - val_loss: 0.0780\n",
      "Epoch 296/300\n",
      "2/2 [==============================] - 0s 27ms/step - loss: 0.0323 - val_loss: 0.0788\n",
      "Epoch 297/300\n",
      "2/2 [==============================] - 0s 28ms/step - loss: 0.0325 - val_loss: 0.0776\n",
      "Epoch 298/300\n",
      "2/2 [==============================] - 0s 27ms/step - loss: 0.0328 - val_loss: 0.0758\n",
      "Epoch 299/300\n",
      "2/2 [==============================] - 0s 28ms/step - loss: 0.0306 - val_loss: 0.0772\n",
      "Epoch 300/300\n",
      "2/2 [==============================] - 0s 34ms/step - loss: 0.0349 - val_loss: 0.0754\n",
      "1/1 [==============================] - 0s 7ms/step - loss: 0.1351\n"
     ]
    },
    {
     "data": {
      "text/plain": [
       "0.1350858360528946"
      ]
     },
     "execution_count": 16,
     "metadata": {},
     "output_type": "execute_result"
    }
   ],
   "source": [
    "history = dnn_model.fit(\n",
    "    X_train,\n",
    "    y_train,\n",
    "    validation_data=(X_val, y_val),\n",
    "    verbose=1, epochs=300)\n",
    "dnn_model.evaluate(X_test, y_test)"
   ]
  },
  {
   "cell_type": "markdown",
   "metadata": {},
   "source": [
    "Построим график средней абсолютной ошибки (MAE) и оценим эффективность модели."
   ]
  },
  {
   "cell_type": "code",
   "execution_count": 17,
   "metadata": {
    "colab": {
     "base_uri": "https://localhost:8080/",
     "height": 283
    },
    "executionInfo": {
     "elapsed": 25,
     "status": "ok",
     "timestamp": 1669041782598,
     "user": {
      "displayName": "Marat Gilmanov",
      "userId": "01427133271764782702"
     },
     "user_tz": -180
    },
    "id": "nqtKgnRNAYch",
    "outputId": "6b552def-e45d-45fa-9d29-8155536b3030"
   },
   "outputs": [
    {
     "data": {
      "image/png": "[encoded data removed]",
      "text/plain": [
       "<Figure size 640x480 with 1 Axes>"
      ]
     },
     "metadata": {},
     "output_type": "display_data"
    }
   ],
   "source": [
    "plot_loss(history)"
   ]
  },
  {
   "cell_type": "markdown",
   "metadata": {},
   "source": [
    "Теперь перейдем к обучению модели для определения значений глубины шва (Depth)"
   ]
  },
  {
   "cell_type": "code",
   "execution_count": 18,
   "metadata": {},
   "outputs": [],
   "source": [
    "X_train_val, X_test, y_train_val, y_test = train_test_split(X, y['Depth'], test_size=0.2, random_state=1)\n",
    "X_train, X_val, y_train, y_val = train_test_split(X_train_val, y_train_val, test_size=0.2, random_state=1)"
   ]
  },
  {
   "cell_type": "code",
   "execution_count": 19,
   "metadata": {},
   "outputs": [],
   "source": [
    "def build_and_compile_model(norm):\n",
    "    model = keras.Sequential([\n",
    "      norm,\n",
    "      layers.Dense(128, activation='relu'),\n",
    "      layers.Dense(128, activation='relu'),\n",
    "      layers.Dense(1)\n",
    "    ])\n",
    "    model.compile(loss='mean_absolute_error', optimizer=tf.keras.optimizers.Adam(0.001))\n",
    "    return model"
   ]
  },
  {
   "cell_type": "code",
   "execution_count": 20,
   "metadata": {},
   "outputs": [
    {
     "name": "stdout",
     "output_type": "stream",
     "text": [
      "Epoch 1/300\n",
      "2/2 [==============================] - 0s 58ms/step - loss: 0.7328 - val_loss: 0.7194\n",
      "Epoch 2/300\n",
      "2/2 [==============================] - 0s 29ms/step - loss: 0.6503 - val_loss: 0.5679\n",
      "Epoch 3/300\n",
      "2/2 [==============================] - 0s 29ms/step - loss: 0.4875 - val_loss: 0.3615\n",
      "Epoch 4/300\n",
      "2/2 [==============================] - 0s 27ms/step - loss: 0.2815 - val_loss: 0.2254\n",
      "Epoch 5/300\n",
      "2/2 [==============================] - 0s 30ms/step - loss: 0.1958 - val_loss: 0.1833\n",
      "Epoch 6/300\n",
      "2/2 [==============================] - 0s 26ms/step - loss: 0.2012 - val_loss: 0.1772\n",
      "Epoch 7/300\n",
      "2/2 [==============================] - 0s 27ms/step - loss: 0.2279 - val_loss: 0.1930\n",
      "Epoch 8/300\n",
      "2/2 [==============================] - 0s 28ms/step - loss: 0.2568 - val_loss: 0.1861\n",
      "Epoch 9/300\n",
      "2/2 [==============================] - 0s 28ms/step - loss: 0.2228 - val_loss: 0.1484\n",
      "Epoch 10/300\n",
      "2/2 [==============================] - 0s 28ms/step - loss: 0.1487 - val_loss: 0.1388\n",
      "Epoch 11/300\n",
      "2/2 [==============================] - 0s 27ms/step - loss: 0.1238 - val_loss: 0.1767\n",
      "Epoch 12/300\n",
      "2/2 [==============================] - 0s 29ms/step - loss: 0.1191 - val_loss: 0.1879\n",
      "Epoch 13/300\n",
      "2/2 [==============================] - 0s 30ms/step - loss: 0.1234 - val_loss: 0.1847\n",
      "Epoch 14/300\n",
      "2/2 [==============================] - 0s 29ms/step - loss: 0.1144 - val_loss: 0.1486\n",
      "Epoch 15/300\n",
      "2/2 [==============================] - 0s 29ms/step - loss: 0.0816 - val_loss: 0.1058\n",
      "Epoch 16/300\n",
      "2/2 [==============================] - 0s 28ms/step - loss: 0.0677 - val_loss: 0.1051\n",
      "Epoch 17/300\n",
      "2/2 [==============================] - 0s 27ms/step - loss: 0.0840 - val_loss: 0.1047\n",
      "Epoch 18/300\n",
      "2/2 [==============================] - 0s 27ms/step - loss: 0.0833 - val_loss: 0.0998\n",
      "Epoch 19/300\n",
      "2/2 [==============================] - 0s 28ms/step - loss: 0.0650 - val_loss: 0.0935\n",
      "Epoch 20/300\n",
      "2/2 [==============================] - 0s 28ms/step - loss: 0.0505 - val_loss: 0.1056\n",
      "Epoch 21/300\n",
      "2/2 [==============================] - 0s 27ms/step - loss: 0.0575 - val_loss: 0.1036\n",
      "Epoch 22/300\n",
      "2/2 [==============================] - 0s 28ms/step - loss: 0.0559 - val_loss: 0.0924\n",
      "Epoch 23/300\n",
      "2/2 [==============================] - 0s 28ms/step - loss: 0.0473 - val_loss: 0.0915\n",
      "Epoch 24/300\n",
      "2/2 [==============================] - 0s 26ms/step - loss: 0.0483 - val_loss: 0.0938\n",
      "Epoch 25/300\n",
      "2/2 [==============================] - 0s 28ms/step - loss: 0.0449 - val_loss: 0.1000\n",
      "Epoch 26/300\n",
      "2/2 [==============================] - 0s 29ms/step - loss: 0.0512 - val_loss: 0.1031\n",
      "Epoch 27/300\n",
      "2/2 [==============================] - 0s 29ms/step - loss: 0.0516 - val_loss: 0.0996\n",
      "Epoch 28/300\n",
      "2/2 [==============================] - 0s 28ms/step - loss: 0.0445 - val_loss: 0.0964\n",
      "Epoch 29/300\n",
      "2/2 [==============================] - 0s 29ms/step - loss: 0.0444 - val_loss: 0.0961\n",
      "Epoch 30/300\n",
      "2/2 [==============================] - 0s 28ms/step - loss: 0.0456 - val_loss: 0.0970\n",
      "Epoch 31/300\n",
      "2/2 [==============================] - 0s 27ms/step - loss: 0.0433 - val_loss: 0.0999\n",
      "Epoch 32/300\n",
      "2/2 [==============================] - 0s 29ms/step - loss: 0.0444 - val_loss: 0.0999\n",
      "Epoch 33/300\n",
      "2/2 [==============================] - 0s 29ms/step - loss: 0.0443 - val_loss: 0.0972\n",
      "Epoch 34/300\n",
      "2/2 [==============================] - 0s 28ms/step - loss: 0.0445 - val_loss: 0.0954\n",
      "Epoch 35/300\n",
      "2/2 [==============================] - 0s 28ms/step - loss: 0.0459 - val_loss: 0.0936\n",
      "Epoch 36/300\n",
      "2/2 [==============================] - 0s 29ms/step - loss: 0.0432 - val_loss: 0.0952\n",
      "Epoch 37/300\n",
      "2/2 [==============================] - 0s 28ms/step - loss: 0.0416 - val_loss: 0.0961\n",
      "Epoch 38/300\n",
      "2/2 [==============================] - 0s 28ms/step - loss: 0.0419 - val_loss: 0.0955\n",
      "Epoch 39/300\n",
      "2/2 [==============================] - 0s 29ms/step - loss: 0.0416 - val_loss: 0.0940\n",
      "Epoch 40/300\n",
      "2/2 [==============================] - 0s 29ms/step - loss: 0.0412 - val_loss: 0.0945\n",
      "Epoch 41/300\n",
      "2/2 [==============================] - 0s 28ms/step - loss: 0.0421 - val_loss: 0.0944\n",
      "Epoch 42/300\n",
      "2/2 [==============================] - 0s 30ms/step - loss: 0.0410 - val_loss: 0.0953\n",
      "Epoch 43/300\n",
      "2/2 [==============================] - 0s 28ms/step - loss: 0.0440 - val_loss: 0.0952\n",
      "Epoch 44/300\n",
      "2/2 [==============================] - 0s 29ms/step - loss: 0.0424 - val_loss: 0.0964\n",
      "Epoch 45/300\n",
      "2/2 [==============================] - 0s 26ms/step - loss: 0.0431 - val_loss: 0.0980\n",
      "Epoch 46/300\n",
      "2/2 [==============================] - 0s 28ms/step - loss: 0.0451 - val_loss: 0.0973\n",
      "Epoch 47/300\n",
      "2/2 [==============================] - 0s 29ms/step - loss: 0.0418 - val_loss: 0.0969\n",
      "Epoch 48/300\n",
      "2/2 [==============================] - 0s 27ms/step - loss: 0.0423 - val_loss: 0.0958\n",
      "Epoch 49/300\n",
      "2/2 [==============================] - 0s 28ms/step - loss: 0.0418 - val_loss: 0.0936\n",
      "Epoch 50/300\n",
      "2/2 [==============================] - 0s 27ms/step - loss: 0.0415 - val_loss: 0.0927\n",
      "Epoch 51/300\n",
      "2/2 [==============================] - 0s 28ms/step - loss: 0.0426 - val_loss: 0.0916\n",
      "Epoch 52/300\n",
      "2/2 [==============================] - 0s 28ms/step - loss: 0.0414 - val_loss: 0.0938\n",
      "Epoch 53/300\n",
      "2/2 [==============================] - 0s 28ms/step - loss: 0.0424 - val_loss: 0.0956\n",
      "Epoch 54/300\n",
      "2/2 [==============================] - 0s 27ms/step - loss: 0.0416 - val_loss: 0.0956\n",
      "Epoch 55/300\n",
      "2/2 [==============================] - 0s 26ms/step - loss: 0.0404 - val_loss: 0.0947\n",
      "Epoch 56/300\n",
      "2/2 [==============================] - 0s 28ms/step - loss: 0.0403 - val_loss: 0.0953\n",
      "Epoch 57/300\n",
      "2/2 [==============================] - 0s 26ms/step - loss: 0.0437 - val_loss: 0.0957\n",
      "Epoch 58/300\n",
      "2/2 [==============================] - 0s 27ms/step - loss: 0.0435 - val_loss: 0.0976\n",
      "Epoch 59/300\n",
      "2/2 [==============================] - 0s 28ms/step - loss: 0.0458 - val_loss: 0.0968\n",
      "Epoch 60/300\n",
      "2/2 [==============================] - 0s 27ms/step - loss: 0.0449 - val_loss: 0.0952\n",
      "Epoch 61/300\n",
      "2/2 [==============================] - 0s 27ms/step - loss: 0.0414 - val_loss: 0.0957\n",
      "Epoch 62/300\n",
      "2/2 [==============================] - 0s 27ms/step - loss: 0.0427 - val_loss: 0.0954\n",
      "Epoch 63/300\n",
      "2/2 [==============================] - 0s 27ms/step - loss: 0.0407 - val_loss: 0.0952\n",
      "Epoch 64/300\n",
      "2/2 [==============================] - 0s 27ms/step - loss: 0.0446 - val_loss: 0.0969\n",
      "Epoch 65/300\n",
      "2/2 [==============================] - 0s 28ms/step - loss: 0.0462 - val_loss: 0.0928\n",
      "Epoch 66/300\n",
      "2/2 [==============================] - 0s 27ms/step - loss: 0.0427 - val_loss: 0.0938\n",
      "Epoch 67/300\n",
      "2/2 [==============================] - 0s 27ms/step - loss: 0.0463 - val_loss: 0.0938\n",
      "Epoch 68/300\n",
      "2/2 [==============================] - 0s 27ms/step - loss: 0.0434 - val_loss: 0.0947\n",
      "Epoch 69/300\n",
      "2/2 [==============================] - 0s 27ms/step - loss: 0.0415 - val_loss: 0.1001\n",
      "Epoch 70/300\n",
      "2/2 [==============================] - 0s 27ms/step - loss: 0.0471 - val_loss: 0.0975\n",
      "Epoch 71/300\n",
      "2/2 [==============================] - 0s 28ms/step - loss: 0.0432 - val_loss: 0.0935\n",
      "Epoch 72/300\n",
      "2/2 [==============================] - 0s 27ms/step - loss: 0.0413 - val_loss: 0.0931\n",
      "Epoch 73/300\n",
      "2/2 [==============================] - 0s 27ms/step - loss: 0.0464 - val_loss: 0.0920\n",
      "Epoch 74/300\n",
      "2/2 [==============================] - 0s 27ms/step - loss: 0.0426 - val_loss: 0.0948\n",
      "Epoch 75/300\n",
      "2/2 [==============================] - 0s 30ms/step - loss: 0.0434 - val_loss: 0.0970\n",
      "Epoch 76/300\n",
      "2/2 [==============================] - 0s 28ms/step - loss: 0.0437 - val_loss: 0.0925\n",
      "Epoch 77/300\n",
      "2/2 [==============================] - 0s 30ms/step - loss: 0.0432 - val_loss: 0.0914\n",
      "Epoch 78/300\n",
      "2/2 [==============================] - 0s 29ms/step - loss: 0.0409 - val_loss: 0.0924\n",
      "Epoch 79/300\n",
      "2/2 [==============================] - 0s 28ms/step - loss: 0.0422 - val_loss: 0.0947\n",
      "Epoch 80/300\n",
      "2/2 [==============================] - 0s 31ms/step - loss: 0.0445 - val_loss: 0.0921\n",
      "Epoch 81/300\n",
      "2/2 [==============================] - 0s 27ms/step - loss: 0.0406 - val_loss: 0.0896\n",
      "Epoch 82/300\n",
      "2/2 [==============================] - 0s 27ms/step - loss: 0.0429 - val_loss: 0.0897\n",
      "Epoch 83/300\n",
      "2/2 [==============================] - 0s 28ms/step - loss: 0.0429 - val_loss: 0.0910\n",
      "Epoch 84/300\n",
      "2/2 [==============================] - 0s 27ms/step - loss: 0.0430 - val_loss: 0.0926\n",
      "Epoch 85/300\n",
      "2/2 [==============================] - 0s 29ms/step - loss: 0.0410 - val_loss: 0.0913\n",
      "Epoch 86/300\n",
      "2/2 [==============================] - 0s 28ms/step - loss: 0.0407 - val_loss: 0.0917\n",
      "Epoch 87/300\n",
      "2/2 [==============================] - 0s 27ms/step - loss: 0.0415 - val_loss: 0.0926\n",
      "Epoch 88/300\n",
      "2/2 [==============================] - 0s 27ms/step - loss: 0.0401 - val_loss: 0.0987\n",
      "Epoch 89/300\n",
      "2/2 [==============================] - 0s 26ms/step - loss: 0.0466 - val_loss: 0.0966\n",
      "Epoch 90/300\n",
      "2/2 [==============================] - 0s 27ms/step - loss: 0.0432 - val_loss: 0.0909\n",
      "Epoch 91/300\n",
      "2/2 [==============================] - 0s 29ms/step - loss: 0.0409 - val_loss: 0.0900\n",
      "Epoch 92/300\n",
      "2/2 [==============================] - 0s 26ms/step - loss: 0.0403 - val_loss: 0.0929\n",
      "Epoch 93/300\n",
      "2/2 [==============================] - 0s 27ms/step - loss: 0.0408 - val_loss: 0.0942\n",
      "Epoch 94/300\n",
      "2/2 [==============================] - 0s 27ms/step - loss: 0.0406 - val_loss: 0.0913\n",
      "Epoch 95/300\n",
      "2/2 [==============================] - 0s 27ms/step - loss: 0.0408 - val_loss: 0.0893\n",
      "Epoch 96/300\n",
      "2/2 [==============================] - 0s 27ms/step - loss: 0.0418 - val_loss: 0.0889\n",
      "Epoch 97/300\n",
      "2/2 [==============================] - 0s 26ms/step - loss: 0.0417 - val_loss: 0.0900\n",
      "Epoch 98/300\n",
      "2/2 [==============================] - 0s 28ms/step - loss: 0.0408 - val_loss: 0.0906\n",
      "Epoch 99/300\n",
      "2/2 [==============================] - 0s 28ms/step - loss: 0.0400 - val_loss: 0.0926\n",
      "Epoch 100/300\n",
      "2/2 [==============================] - 0s 27ms/step - loss: 0.0404 - val_loss: 0.0939\n",
      "Epoch 101/300\n",
      "2/2 [==============================] - 0s 27ms/step - loss: 0.0408 - val_loss: 0.0934\n",
      "Epoch 102/300\n",
      "2/2 [==============================] - 0s 27ms/step - loss: 0.0407 - val_loss: 0.0930\n",
      "Epoch 103/300\n",
      "2/2 [==============================] - 0s 28ms/step - loss: 0.0407 - val_loss: 0.0926\n",
      "Epoch 104/300\n",
      "2/2 [==============================] - 0s 28ms/step - loss: 0.0405 - val_loss: 0.0930\n",
      "Epoch 105/300\n",
      "2/2 [==============================] - 0s 27ms/step - loss: 0.0391 - val_loss: 0.0920\n",
      "Epoch 106/300\n",
      "2/2 [==============================] - 0s 27ms/step - loss: 0.0384 - val_loss: 0.0916\n",
      "Epoch 107/300\n",
      "2/2 [==============================] - 0s 28ms/step - loss: 0.0395 - val_loss: 0.0909\n",
      "Epoch 108/300\n",
      "2/2 [==============================] - 0s 27ms/step - loss: 0.0406 - val_loss: 0.0901\n",
      "Epoch 109/300\n",
      "2/2 [==============================] - 0s 27ms/step - loss: 0.0409 - val_loss: 0.0903\n",
      "Epoch 110/300\n",
      "2/2 [==============================] - 0s 26ms/step - loss: 0.0407 - val_loss: 0.0912\n",
      "Epoch 111/300\n",
      "2/2 [==============================] - 0s 28ms/step - loss: 0.0391 - val_loss: 0.0912\n",
      "Epoch 112/300\n",
      "2/2 [==============================] - 0s 28ms/step - loss: 0.0411 - val_loss: 0.0909\n",
      "Epoch 113/300\n",
      "2/2 [==============================] - 0s 27ms/step - loss: 0.0401 - val_loss: 0.0908\n",
      "Epoch 114/300\n",
      "2/2 [==============================] - 0s 25ms/step - loss: 0.0397 - val_loss: 0.0930\n",
      "Epoch 115/300\n",
      "2/2 [==============================] - 0s 28ms/step - loss: 0.0426 - val_loss: 0.0921\n",
      "Epoch 116/300\n",
      "2/2 [==============================] - 0s 27ms/step - loss: 0.0397 - val_loss: 0.0911\n",
      "Epoch 117/300\n",
      "2/2 [==============================] - 0s 28ms/step - loss: 0.0433 - val_loss: 0.0906\n",
      "Epoch 118/300\n",
      "2/2 [==============================] - 0s 27ms/step - loss: 0.0419 - val_loss: 0.0892\n",
      "Epoch 119/300\n",
      "2/2 [==============================] - 0s 27ms/step - loss: 0.0410 - val_loss: 0.0882\n",
      "Epoch 120/300\n",
      "2/2 [==============================] - 0s 27ms/step - loss: 0.0395 - val_loss: 0.0877\n",
      "Epoch 121/300\n",
      "2/2 [==============================] - 0s 27ms/step - loss: 0.0410 - val_loss: 0.0889\n",
      "Epoch 122/300\n",
      "2/2 [==============================] - 0s 27ms/step - loss: 0.0387 - val_loss: 0.0920\n",
      "Epoch 123/300\n",
      "2/2 [==============================] - 0s 27ms/step - loss: 0.0420 - val_loss: 0.0921\n",
      "Epoch 124/300\n",
      "2/2 [==============================] - 0s 27ms/step - loss: 0.0397 - val_loss: 0.0904\n",
      "Epoch 125/300\n",
      "2/2 [==============================] - 0s 28ms/step - loss: 0.0412 - val_loss: 0.0899\n",
      "Epoch 126/300\n",
      "2/2 [==============================] - 0s 28ms/step - loss: 0.0423 - val_loss: 0.0900\n",
      "Epoch 127/300\n",
      "2/2 [==============================] - 0s 26ms/step - loss: 0.0429 - val_loss: 0.0927\n",
      "Epoch 128/300\n",
      "2/2 [==============================] - 0s 27ms/step - loss: 0.0445 - val_loss: 0.0912\n",
      "Epoch 129/300\n",
      "2/2 [==============================] - 0s 27ms/step - loss: 0.0421 - val_loss: 0.0914\n",
      "Epoch 130/300\n",
      "2/2 [==============================] - 0s 28ms/step - loss: 0.0429 - val_loss: 0.0929\n",
      "Epoch 131/300\n",
      "2/2 [==============================] - 0s 27ms/step - loss: 0.0427 - val_loss: 0.0949\n",
      "Epoch 132/300\n",
      "2/2 [==============================] - 0s 27ms/step - loss: 0.0423 - val_loss: 0.0920\n",
      "Epoch 133/300\n",
      "2/2 [==============================] - 0s 28ms/step - loss: 0.0404 - val_loss: 0.0919\n",
      "Epoch 134/300\n",
      "2/2 [==============================] - 0s 26ms/step - loss: 0.0442 - val_loss: 0.0922\n",
      "Epoch 135/300\n",
      "2/2 [==============================] - 0s 26ms/step - loss: 0.0451 - val_loss: 0.0857\n",
      "Epoch 136/300\n",
      "2/2 [==============================] - 0s 27ms/step - loss: 0.0408 - val_loss: 0.0890\n",
      "Epoch 137/300\n",
      "2/2 [==============================] - 0s 28ms/step - loss: 0.0455 - val_loss: 0.0886\n",
      "Epoch 138/300\n",
      "2/2 [==============================] - 0s 27ms/step - loss: 0.0426 - val_loss: 0.0884\n",
      "Epoch 139/300\n",
      "2/2 [==============================] - 0s 27ms/step - loss: 0.0401 - val_loss: 0.0910\n",
      "Epoch 140/300\n",
      "2/2 [==============================] - 0s 27ms/step - loss: 0.0423 - val_loss: 0.0912\n",
      "Epoch 141/300\n",
      "2/2 [==============================] - 0s 27ms/step - loss: 0.0417 - val_loss: 0.0904\n",
      "Epoch 142/300\n",
      "2/2 [==============================] - 0s 27ms/step - loss: 0.0399 - val_loss: 0.0911\n",
      "Epoch 143/300\n",
      "2/2 [==============================] - 0s 27ms/step - loss: 0.0410 - val_loss: 0.0906\n",
      "Epoch 144/300\n",
      "2/2 [==============================] - 0s 27ms/step - loss: 0.0391 - val_loss: 0.0888\n",
      "Epoch 145/300\n",
      "2/2 [==============================] - 0s 27ms/step - loss: 0.0407 - val_loss: 0.0907\n",
      "Epoch 146/300\n",
      "2/2 [==============================] - 0s 28ms/step - loss: 0.0411 - val_loss: 0.0900\n",
      "Epoch 147/300\n",
      "2/2 [==============================] - 0s 27ms/step - loss: 0.0402 - val_loss: 0.0896\n",
      "Epoch 148/300\n",
      "2/2 [==============================] - 0s 28ms/step - loss: 0.0393 - val_loss: 0.0916\n",
      "Epoch 149/300\n",
      "2/2 [==============================] - 0s 28ms/step - loss: 0.0396 - val_loss: 0.0925\n",
      "Epoch 150/300\n",
      "2/2 [==============================] - 0s 27ms/step - loss: 0.0402 - val_loss: 0.0924\n",
      "Epoch 151/300\n",
      "2/2 [==============================] - 0s 27ms/step - loss: 0.0407 - val_loss: 0.0909\n",
      "Epoch 152/300\n",
      "2/2 [==============================] - 0s 28ms/step - loss: 0.0393 - val_loss: 0.0915\n",
      "Epoch 153/300\n",
      "2/2 [==============================] - 0s 26ms/step - loss: 0.0397 - val_loss: 0.0910\n",
      "Epoch 154/300\n",
      "2/2 [==============================] - 0s 26ms/step - loss: 0.0388 - val_loss: 0.0912\n",
      "Epoch 155/300\n",
      "2/2 [==============================] - 0s 27ms/step - loss: 0.0422 - val_loss: 0.0904\n",
      "Epoch 156/300\n",
      "2/2 [==============================] - 0s 27ms/step - loss: 0.0405 - val_loss: 0.0899\n",
      "Epoch 157/300\n",
      "2/2 [==============================] - 0s 27ms/step - loss: 0.0392 - val_loss: 0.0891\n",
      "Epoch 158/300\n",
      "2/2 [==============================] - 0s 28ms/step - loss: 0.0387 - val_loss: 0.0879\n",
      "Epoch 159/300\n",
      "2/2 [==============================] - 0s 27ms/step - loss: 0.0376 - val_loss: 0.0883\n",
      "Epoch 160/300\n",
      "2/2 [==============================] - 0s 26ms/step - loss: 0.0385 - val_loss: 0.0892\n",
      "Epoch 161/300\n",
      "2/2 [==============================] - 0s 27ms/step - loss: 0.0387 - val_loss: 0.0894\n",
      "Epoch 162/300\n",
      "2/2 [==============================] - 0s 27ms/step - loss: 0.0390 - val_loss: 0.0887\n",
      "Epoch 163/300\n",
      "2/2 [==============================] - 0s 28ms/step - loss: 0.0390 - val_loss: 0.0884\n",
      "Epoch 164/300\n",
      "2/2 [==============================] - 0s 28ms/step - loss: 0.0380 - val_loss: 0.0884\n",
      "Epoch 165/300\n",
      "2/2 [==============================] - 0s 27ms/step - loss: 0.0386 - val_loss: 0.0886\n",
      "Epoch 166/300\n",
      "2/2 [==============================] - 0s 26ms/step - loss: 0.0385 - val_loss: 0.0893\n",
      "Epoch 167/300\n",
      "2/2 [==============================] - 0s 27ms/step - loss: 0.0390 - val_loss: 0.0892\n",
      "Epoch 168/300\n",
      "2/2 [==============================] - 0s 26ms/step - loss: 0.0382 - val_loss: 0.0903\n",
      "Epoch 169/300\n",
      "2/2 [==============================] - 0s 27ms/step - loss: 0.0401 - val_loss: 0.0923\n",
      "Epoch 170/300\n",
      "2/2 [==============================] - 0s 28ms/step - loss: 0.0388 - val_loss: 0.0909\n",
      "Epoch 171/300\n",
      "2/2 [==============================] - 0s 28ms/step - loss: 0.0381 - val_loss: 0.0888\n",
      "Epoch 172/300\n",
      "2/2 [==============================] - 0s 27ms/step - loss: 0.0389 - val_loss: 0.0900\n",
      "Epoch 173/300\n",
      "2/2 [==============================] - 0s 28ms/step - loss: 0.0396 - val_loss: 0.0898\n",
      "Epoch 174/300\n",
      "2/2 [==============================] - 0s 27ms/step - loss: 0.0381 - val_loss: 0.0906\n",
      "Epoch 175/300\n",
      "2/2 [==============================] - 0s 27ms/step - loss: 0.0382 - val_loss: 0.0923\n",
      "Epoch 176/300\n",
      "2/2 [==============================] - 0s 27ms/step - loss: 0.0404 - val_loss: 0.0927\n",
      "Epoch 177/300\n",
      "2/2 [==============================] - 0s 27ms/step - loss: 0.0411 - val_loss: 0.0904\n",
      "Epoch 178/300\n",
      "2/2 [==============================] - 0s 28ms/step - loss: 0.0399 - val_loss: 0.0897\n",
      "Epoch 179/300\n",
      "2/2 [==============================] - 0s 26ms/step - loss: 0.0399 - val_loss: 0.0877\n",
      "Epoch 180/300\n",
      "2/2 [==============================] - 0s 28ms/step - loss: 0.0400 - val_loss: 0.0907\n",
      "Epoch 181/300\n",
      "2/2 [==============================] - 0s 27ms/step - loss: 0.0412 - val_loss: 0.0914\n",
      "Epoch 182/300\n",
      "2/2 [==============================] - 0s 28ms/step - loss: 0.0403 - val_loss: 0.0893\n",
      "Epoch 183/300\n",
      "2/2 [==============================] - 0s 27ms/step - loss: 0.0386 - val_loss: 0.0876\n",
      "Epoch 184/300\n",
      "2/2 [==============================] - 0s 27ms/step - loss: 0.0398 - val_loss: 0.0878\n",
      "Epoch 185/300\n",
      "2/2 [==============================] - 0s 27ms/step - loss: 0.0409 - val_loss: 0.0880\n",
      "Epoch 186/300\n",
      "2/2 [==============================] - 0s 27ms/step - loss: 0.0389 - val_loss: 0.0902\n",
      "Epoch 187/300\n",
      "2/2 [==============================] - 0s 27ms/step - loss: 0.0388 - val_loss: 0.0896\n",
      "Epoch 188/300\n",
      "2/2 [==============================] - 0s 27ms/step - loss: 0.0381 - val_loss: 0.0877\n",
      "Epoch 189/300\n",
      "2/2 [==============================] - 0s 28ms/step - loss: 0.0380 - val_loss: 0.0865\n",
      "Epoch 190/300\n",
      "2/2 [==============================] - 0s 27ms/step - loss: 0.0387 - val_loss: 0.0851\n",
      "Epoch 191/300\n",
      "2/2 [==============================] - 0s 27ms/step - loss: 0.0378 - val_loss: 0.0881\n",
      "Epoch 192/300\n",
      "2/2 [==============================] - 0s 27ms/step - loss: 0.0381 - val_loss: 0.0907\n",
      "Epoch 193/300\n",
      "2/2 [==============================] - 0s 27ms/step - loss: 0.0383 - val_loss: 0.0918\n",
      "Epoch 194/300\n",
      "2/2 [==============================] - 0s 26ms/step - loss: 0.0392 - val_loss: 0.0904\n",
      "Epoch 195/300\n",
      "2/2 [==============================] - 0s 28ms/step - loss: 0.0398 - val_loss: 0.0898\n",
      "Epoch 196/300\n",
      "2/2 [==============================] - 0s 26ms/step - loss: 0.0381 - val_loss: 0.0919\n",
      "Epoch 197/300\n",
      "2/2 [==============================] - 0s 28ms/step - loss: 0.0391 - val_loss: 0.0934\n",
      "Epoch 198/300\n",
      "2/2 [==============================] - 0s 26ms/step - loss: 0.0390 - val_loss: 0.0913\n",
      "Epoch 199/300\n",
      "2/2 [==============================] - 0s 28ms/step - loss: 0.0377 - val_loss: 0.0895\n",
      "Epoch 200/300\n",
      "2/2 [==============================] - 0s 26ms/step - loss: 0.0395 - val_loss: 0.0911\n",
      "Epoch 201/300\n",
      "2/2 [==============================] - 0s 27ms/step - loss: 0.0408 - val_loss: 0.0904\n",
      "Epoch 202/300\n",
      "2/2 [==============================] - 0s 28ms/step - loss: 0.0403 - val_loss: 0.0920\n",
      "Epoch 203/300\n",
      "2/2 [==============================] - 0s 28ms/step - loss: 0.0415 - val_loss: 0.0931\n",
      "Epoch 204/300\n",
      "2/2 [==============================] - 0s 28ms/step - loss: 0.0391 - val_loss: 0.0906\n",
      "Epoch 205/300\n",
      "2/2 [==============================] - 0s 27ms/step - loss: 0.0391 - val_loss: 0.0890\n",
      "Epoch 206/300\n",
      "2/2 [==============================] - 0s 28ms/step - loss: 0.0394 - val_loss: 0.0912\n",
      "Epoch 207/300\n",
      "2/2 [==============================] - 0s 28ms/step - loss: 0.0387 - val_loss: 0.0920\n",
      "Epoch 208/300\n",
      "2/2 [==============================] - 0s 27ms/step - loss: 0.0388 - val_loss: 0.0917\n",
      "Epoch 209/300\n",
      "2/2 [==============================] - 0s 28ms/step - loss: 0.0396 - val_loss: 0.0911\n",
      "Epoch 210/300\n",
      "2/2 [==============================] - 0s 29ms/step - loss: 0.0389 - val_loss: 0.0907\n",
      "Epoch 211/300\n",
      "2/2 [==============================] - 0s 27ms/step - loss: 0.0389 - val_loss: 0.0918\n",
      "Epoch 212/300\n",
      "2/2 [==============================] - 0s 27ms/step - loss: 0.0375 - val_loss: 0.0933\n",
      "Epoch 213/300\n",
      "2/2 [==============================] - 0s 33ms/step - loss: 0.0397 - val_loss: 0.0929\n",
      "Epoch 214/300\n",
      "2/2 [==============================] - 0s 28ms/step - loss: 0.0385 - val_loss: 0.0905\n",
      "Epoch 215/300\n",
      "2/2 [==============================] - 0s 28ms/step - loss: 0.0376 - val_loss: 0.0916\n",
      "Epoch 216/300\n",
      "2/2 [==============================] - 0s 26ms/step - loss: 0.0386 - val_loss: 0.0924\n",
      "Epoch 217/300\n",
      "2/2 [==============================] - 0s 28ms/step - loss: 0.0385 - val_loss: 0.0899\n",
      "Epoch 218/300\n",
      "2/2 [==============================] - 0s 28ms/step - loss: 0.0383 - val_loss: 0.0896\n",
      "Epoch 219/300\n",
      "2/2 [==============================] - 0s 27ms/step - loss: 0.0387 - val_loss: 0.0906\n",
      "Epoch 220/300\n",
      "2/2 [==============================] - 0s 29ms/step - loss: 0.0377 - val_loss: 0.0935\n",
      "Epoch 221/300\n",
      "2/2 [==============================] - 0s 26ms/step - loss: 0.0400 - val_loss: 0.0940\n",
      "Epoch 222/300\n",
      "2/2 [==============================] - 0s 29ms/step - loss: 0.0397 - val_loss: 0.0901\n",
      "Epoch 223/300\n",
      "2/2 [==============================] - 0s 29ms/step - loss: 0.0383 - val_loss: 0.0878\n",
      "Epoch 224/300\n",
      "2/2 [==============================] - 0s 26ms/step - loss: 0.0388 - val_loss: 0.0878\n",
      "Epoch 225/300\n",
      "2/2 [==============================] - 0s 26ms/step - loss: 0.0407 - val_loss: 0.0905\n",
      "Epoch 226/300\n",
      "2/2 [==============================] - 0s 27ms/step - loss: 0.0372 - val_loss: 0.0961\n",
      "Epoch 227/300\n",
      "2/2 [==============================] - 0s 26ms/step - loss: 0.0449 - val_loss: 0.0953\n",
      "Epoch 228/300\n",
      "2/2 [==============================] - 0s 26ms/step - loss: 0.0423 - val_loss: 0.0942\n",
      "Epoch 229/300\n",
      "2/2 [==============================] - 0s 27ms/step - loss: 0.0422 - val_loss: 0.0923\n",
      "Epoch 230/300\n",
      "2/2 [==============================] - 0s 28ms/step - loss: 0.0400 - val_loss: 0.0920\n",
      "Epoch 231/300\n",
      "2/2 [==============================] - 0s 27ms/step - loss: 0.0376 - val_loss: 0.0934\n",
      "Epoch 232/300\n",
      "2/2 [==============================] - 0s 27ms/step - loss: 0.0429 - val_loss: 0.0904\n",
      "Epoch 233/300\n",
      "2/2 [==============================] - 0s 27ms/step - loss: 0.0414 - val_loss: 0.0909\n",
      "Epoch 234/300\n",
      "2/2 [==============================] - 0s 27ms/step - loss: 0.0389 - val_loss: 0.0934\n",
      "Epoch 235/300\n",
      "2/2 [==============================] - 0s 26ms/step - loss: 0.0395 - val_loss: 0.0904\n",
      "Epoch 236/300\n",
      "2/2 [==============================] - 0s 29ms/step - loss: 0.0371 - val_loss: 0.0882\n",
      "Epoch 237/300\n",
      "2/2 [==============================] - 0s 26ms/step - loss: 0.0401 - val_loss: 0.0896\n",
      "Epoch 238/300\n",
      "2/2 [==============================] - 0s 28ms/step - loss: 0.0396 - val_loss: 0.0911\n",
      "Epoch 239/300\n",
      "2/2 [==============================] - 0s 28ms/step - loss: 0.0383 - val_loss: 0.0900\n",
      "Epoch 240/300\n",
      "2/2 [==============================] - 0s 26ms/step - loss: 0.0379 - val_loss: 0.0907\n",
      "Epoch 241/300\n",
      "2/2 [==============================] - 0s 26ms/step - loss: 0.0376 - val_loss: 0.0913\n",
      "Epoch 242/300\n",
      "2/2 [==============================] - 0s 26ms/step - loss: 0.0386 - val_loss: 0.0900\n",
      "Epoch 243/300\n",
      "2/2 [==============================] - 0s 27ms/step - loss: 0.0386 - val_loss: 0.0911\n",
      "Epoch 244/300\n",
      "2/2 [==============================] - 0s 26ms/step - loss: 0.0383 - val_loss: 0.0918\n",
      "Epoch 245/300\n",
      "2/2 [==============================] - 0s 27ms/step - loss: 0.0389 - val_loss: 0.0928\n",
      "Epoch 246/300\n",
      "2/2 [==============================] - 0s 27ms/step - loss: 0.0390 - val_loss: 0.0923\n",
      "Epoch 247/300\n",
      "2/2 [==============================] - 0s 29ms/step - loss: 0.0389 - val_loss: 0.0889\n",
      "Epoch 248/300\n",
      "2/2 [==============================] - 0s 27ms/step - loss: 0.0375 - val_loss: 0.0887\n",
      "Epoch 249/300\n",
      "2/2 [==============================] - 0s 27ms/step - loss: 0.0393 - val_loss: 0.0891\n",
      "Epoch 250/300\n",
      "2/2 [==============================] - 0s 26ms/step - loss: 0.0377 - val_loss: 0.0933\n",
      "Epoch 251/300\n",
      "2/2 [==============================] - 0s 27ms/step - loss: 0.0393 - val_loss: 0.0938\n",
      "Epoch 252/300\n",
      "2/2 [==============================] - 0s 26ms/step - loss: 0.0396 - val_loss: 0.0906\n",
      "Epoch 253/300\n",
      "2/2 [==============================] - 0s 27ms/step - loss: 0.0392 - val_loss: 0.0890\n",
      "Epoch 254/300\n",
      "2/2 [==============================] - 0s 29ms/step - loss: 0.0405 - val_loss: 0.0896\n",
      "Epoch 255/300\n",
      "2/2 [==============================] - 0s 27ms/step - loss: 0.0384 - val_loss: 0.0942\n",
      "Epoch 256/300\n",
      "2/2 [==============================] - 0s 26ms/step - loss: 0.0396 - val_loss: 0.0939\n",
      "Epoch 257/300\n",
      "2/2 [==============================] - 0s 27ms/step - loss: 0.0380 - val_loss: 0.0879\n",
      "Epoch 258/300\n",
      "2/2 [==============================] - 0s 27ms/step - loss: 0.0399 - val_loss: 0.0872\n",
      "Epoch 259/300\n",
      "2/2 [==============================] - 0s 27ms/step - loss: 0.0415 - val_loss: 0.0878\n",
      "Epoch 260/300\n",
      "2/2 [==============================] - 0s 26ms/step - loss: 0.0406 - val_loss: 0.0906\n",
      "Epoch 261/300\n",
      "2/2 [==============================] - 0s 27ms/step - loss: 0.0380 - val_loss: 0.0919\n",
      "Epoch 262/300\n",
      "2/2 [==============================] - 0s 27ms/step - loss: 0.0369 - val_loss: 0.0913\n",
      "Epoch 263/300\n",
      "2/2 [==============================] - 0s 28ms/step - loss: 0.0409 - val_loss: 0.0903\n",
      "Epoch 264/300\n",
      "2/2 [==============================] - 0s 28ms/step - loss: 0.0378 - val_loss: 0.0924\n",
      "Epoch 265/300\n",
      "2/2 [==============================] - 0s 26ms/step - loss: 0.0403 - val_loss: 0.0933\n",
      "Epoch 266/300\n",
      "2/2 [==============================] - 0s 28ms/step - loss: 0.0415 - val_loss: 0.0922\n",
      "Epoch 267/300\n",
      "2/2 [==============================] - 0s 28ms/step - loss: 0.0393 - val_loss: 0.0918\n",
      "Epoch 268/300\n",
      "2/2 [==============================] - 0s 28ms/step - loss: 0.0391 - val_loss: 0.0885\n",
      "Epoch 269/300\n",
      "2/2 [==============================] - 0s 26ms/step - loss: 0.0386 - val_loss: 0.0907\n",
      "Epoch 270/300\n",
      "2/2 [==============================] - 0s 28ms/step - loss: 0.0386 - val_loss: 0.0943\n",
      "Epoch 271/300\n",
      "2/2 [==============================] - 0s 26ms/step - loss: 0.0421 - val_loss: 0.0967\n",
      "Epoch 272/300\n",
      "2/2 [==============================] - 0s 27ms/step - loss: 0.0432 - val_loss: 0.0942\n",
      "Epoch 273/300\n",
      "2/2 [==============================] - 0s 27ms/step - loss: 0.0414 - val_loss: 0.0899\n",
      "Epoch 274/300\n",
      "2/2 [==============================] - 0s 28ms/step - loss: 0.0423 - val_loss: 0.0874\n",
      "Epoch 275/300\n",
      "2/2 [==============================] - 0s 27ms/step - loss: 0.0400 - val_loss: 0.0895\n",
      "Epoch 276/300\n",
      "2/2 [==============================] - 0s 27ms/step - loss: 0.0380 - val_loss: 0.0938\n",
      "Epoch 277/300\n",
      "2/2 [==============================] - 0s 27ms/step - loss: 0.0409 - val_loss: 0.0945\n",
      "Epoch 278/300\n",
      "2/2 [==============================] - 0s 26ms/step - loss: 0.0412 - val_loss: 0.0913\n",
      "Epoch 279/300\n",
      "2/2 [==============================] - 0s 27ms/step - loss: 0.0376 - val_loss: 0.0931\n",
      "Epoch 280/300\n",
      "2/2 [==============================] - 0s 27ms/step - loss: 0.0469 - val_loss: 0.0923\n",
      "Epoch 281/300\n",
      "2/2 [==============================] - 0s 27ms/step - loss: 0.0444 - val_loss: 0.0923\n",
      "Epoch 282/300\n",
      "2/2 [==============================] - 0s 27ms/step - loss: 0.0421 - val_loss: 0.0930\n",
      "Epoch 283/300\n",
      "2/2 [==============================] - 0s 27ms/step - loss: 0.0391 - val_loss: 0.0926\n",
      "Epoch 284/300\n",
      "2/2 [==============================] - 0s 27ms/step - loss: 0.0388 - val_loss: 0.0948\n",
      "Epoch 285/300\n",
      "2/2 [==============================] - 0s 26ms/step - loss: 0.0414 - val_loss: 0.0945\n",
      "Epoch 286/300\n",
      "2/2 [==============================] - 0s 26ms/step - loss: 0.0394 - val_loss: 0.0973\n",
      "Epoch 287/300\n",
      "2/2 [==============================] - 0s 29ms/step - loss: 0.0424 - val_loss: 0.0962\n",
      "Epoch 288/300\n",
      "2/2 [==============================] - 0s 29ms/step - loss: 0.0403 - val_loss: 0.0919\n",
      "Epoch 289/300\n",
      "2/2 [==============================] - 0s 26ms/step - loss: 0.0406 - val_loss: 0.0908\n",
      "Epoch 290/300\n",
      "2/2 [==============================] - 0s 28ms/step - loss: 0.0442 - val_loss: 0.0923\n",
      "Epoch 291/300\n",
      "2/2 [==============================] - 0s 27ms/step - loss: 0.0381 - val_loss: 0.0988\n",
      "Epoch 292/300\n",
      "2/2 [==============================] - 0s 27ms/step - loss: 0.0427 - val_loss: 0.1009\n",
      "Epoch 293/300\n",
      "2/2 [==============================] - 0s 28ms/step - loss: 0.0445 - val_loss: 0.0954\n",
      "Epoch 294/300\n",
      "2/2 [==============================] - 0s 27ms/step - loss: 0.0416 - val_loss: 0.0913\n",
      "Epoch 295/300\n",
      "2/2 [==============================] - 0s 26ms/step - loss: 0.0425 - val_loss: 0.0918\n",
      "Epoch 296/300\n",
      "2/2 [==============================] - 0s 27ms/step - loss: 0.0397 - val_loss: 0.0922\n",
      "Epoch 297/300\n",
      "2/2 [==============================] - 0s 28ms/step - loss: 0.0400 - val_loss: 0.0933\n",
      "Epoch 298/300\n",
      "2/2 [==============================] - 0s 28ms/step - loss: 0.0423 - val_loss: 0.0943\n",
      "Epoch 299/300\n",
      "2/2 [==============================] - 0s 27ms/step - loss: 0.0432 - val_loss: 0.0925\n",
      "Epoch 300/300\n",
      "2/2 [==============================] - 0s 28ms/step - loss: 0.0389 - val_loss: 0.0919\n"
     ]
    },
    {
     "data": {
      "text/plain": [
       "0.16175775229930878"
      ]
     },
     "execution_count": 20,
     "metadata": {},
     "output_type": "execute_result"
    }
   ],
   "source": [
    "history = dnn_model.fit(\n",
    "    X_train,\n",
    "    y_train,\n",
    "    validation_data=(X_val, y_val),\n",
    "    verbose=1, epochs=300)\n",
    "dnn_model.evaluate(X_test, y_test, verbose=0)"
   ]
  },
  {
   "cell_type": "code",
   "execution_count": 21,
   "metadata": {},
   "outputs": [
    {
     "data": {
      "image/png": "[encoded data removed]",
      "text/plain": [
       "<Figure size 640x480 with 1 Axes>"
      ]
     },
     "metadata": {},
     "output_type": "display_data"
    }
   ],
   "source": [
    "plot_loss(history)"
   ]
  },
  {
   "cell_type": "markdown",
   "metadata": {
    "id": "ok_dJuvOe1_n"
   },
   "source": [
    "#### Cлучайный лес"
   ]
  },
  {
   "cell_type": "code",
   "execution_count": 22,
   "metadata": {
    "executionInfo": {
     "elapsed": 23,
     "status": "ok",
     "timestamp": 1669041782600,
     "user": {
      "displayName": "Marat Gilmanov",
      "userId": "01427133271764782702"
     },
     "user_tz": -180
    },
    "id": "1q4gkRY0GfXs"
   },
   "outputs": [],
   "source": [
    "from sklearn.ensemble import RandomForestRegressor\n",
    "from sklearn.model_selection import GridSearchCV"
   ]
  },
  {
   "cell_type": "markdown",
   "metadata": {},
   "source": [
    "Разобьем выборку на обучающую и тестовую."
   ]
  },
  {
   "cell_type": "code",
   "execution_count": 23,
   "metadata": {
    "executionInfo": {
     "elapsed": 23,
     "status": "ok",
     "timestamp": 1669041782601,
     "user": {
      "displayName": "Marat Gilmanov",
      "userId": "01427133271764782702"
     },
     "user_tz": -180
    },
    "id": "NrDn9B4OJBLB"
   },
   "outputs": [],
   "source": [
    "X_train, X_test, y_train, y_test = train_test_split(X, y['Width'], test_size=0.2, random_state=1)"
   ]
  },
  {
   "cell_type": "markdown",
   "metadata": {},
   "source": [
    "Для подбора гиперпараметров воспользуемся классом GridSearchCV из библиотеки sklearn"
   ]
  },
  {
   "cell_type": "code",
   "execution_count": 24,
   "metadata": {
    "colab": {
     "base_uri": "https://localhost:8080/"
    },
    "executionInfo": {
     "elapsed": 44990,
     "status": "ok",
     "timestamp": 1669041827569,
     "user": {
      "displayName": "Marat Gilmanov",
      "userId": "01427133271764782702"
     },
     "user_tz": -180
    },
    "id": "zUx19tkgJGVx",
    "outputId": "1eb6bc73-7a84-40d4-800c-743eb1023bc6"
   },
   "outputs": [
    {
     "name": "stdout",
     "output_type": "stream",
     "text": [
      "Fitting 5 folds for each of 27 candidates, totalling 135 fits\n",
      "[CV] END criterion=squared_error, max_depth=4, max_features=auto, n_estimators=100; total time=   0.0s\n",
      "[CV] END criterion=squared_error, max_depth=4, max_features=auto, n_estimators=100; total time=   0.0s\n",
      "[CV] END criterion=squared_error, max_depth=4, max_features=auto, n_estimators=100; total time=   0.0s\n",
      "[CV] END criterion=squared_error, max_depth=4, max_features=auto, n_estimators=100; total time=   0.0s\n",
      "[CV] END criterion=squared_error, max_depth=4, max_features=auto, n_estimators=100; total time=   0.0s\n",
      "[CV] END criterion=squared_error, max_depth=4, max_features=auto, n_estimators=200; total time=   0.0s\n",
      "[CV] END criterion=squared_error, max_depth=4, max_features=auto, n_estimators=200; total time=   0.1s\n",
      "[CV] END criterion=squared_error, max_depth=4, max_features=auto, n_estimators=200; total time=   0.1s\n",
      "[CV] END criterion=squared_error, max_depth=4, max_features=auto, n_estimators=200; total time=   0.0s\n",
      "[CV] END criterion=squared_error, max_depth=4, max_features=auto, n_estimators=200; total time=   0.1s\n",
      "[CV] END criterion=squared_error, max_depth=4, max_features=auto, n_estimators=500; total time=   0.3s\n",
      "[CV] END criterion=squared_error, max_depth=4, max_features=auto, n_estimators=500; total time=   0.3s\n",
      "[CV] END criterion=squared_error, max_depth=4, max_features=auto, n_estimators=500; total time=   0.3s\n",
      "[CV] END criterion=squared_error, max_depth=4, max_features=auto, n_estimators=500; total time=   0.3s\n",
      "[CV] END criterion=squared_error, max_depth=4, max_features=auto, n_estimators=500; total time=   0.3s\n",
      "[CV] END criterion=squared_error, max_depth=4, max_features=sqrt, n_estimators=100; total time=   0.0s\n",
      "[CV] END criterion=squared_error, max_depth=4, max_features=sqrt, n_estimators=100; total time=   0.0s\n",
      "[CV] END criterion=squared_error, max_depth=4, max_features=sqrt, n_estimators=100; total time=   0.0s\n",
      "[CV] END criterion=squared_error, max_depth=4, max_features=sqrt, n_estimators=100; total time=   0.0s\n",
      "[CV] END criterion=squared_error, max_depth=4, max_features=sqrt, n_estimators=100; total time=   0.0s\n",
      "[CV] END criterion=squared_error, max_depth=4, max_features=sqrt, n_estimators=200; total time=   0.1s\n",
      "[CV] END criterion=squared_error, max_depth=4, max_features=sqrt, n_estimators=200; total time=   0.1s\n",
      "[CV] END criterion=squared_error, max_depth=4, max_features=sqrt, n_estimators=200; total time=   0.1s\n",
      "[CV] END criterion=squared_error, max_depth=4, max_features=sqrt, n_estimators=200; total time=   0.0s\n",
      "[CV] END criterion=squared_error, max_depth=4, max_features=sqrt, n_estimators=200; total time=   0.1s\n",
      "[CV] END criterion=squared_error, max_depth=4, max_features=sqrt, n_estimators=500; total time=   0.3s\n",
      "[CV] END criterion=squared_error, max_depth=4, max_features=sqrt, n_estimators=500; total time=   0.3s\n",
      "[CV] END criterion=squared_error, max_depth=4, max_features=sqrt, n_estimators=500; total time=   0.3s\n",
      "[CV] END criterion=squared_error, max_depth=4, max_features=sqrt, n_estimators=500; total time=   0.3s\n",
      "[CV] END criterion=squared_error, max_depth=4, max_features=sqrt, n_estimators=500; total time=   0.3s\n",
      "[CV] END criterion=squared_error, max_depth=4, max_features=log2, n_estimators=100; total time=   0.0s\n",
      "[CV] END criterion=squared_error, max_depth=4, max_features=log2, n_estimators=100; total time=   0.0s\n",
      "[CV] END criterion=squared_error, max_depth=4, max_features=log2, n_estimators=100; total time=   0.0s\n",
      "[CV] END criterion=squared_error, max_depth=4, max_features=log2, n_estimators=100; total time=   0.0s\n",
      "[CV] END criterion=squared_error, max_depth=4, max_features=log2, n_estimators=100; total time=   0.0s\n",
      "[CV] END criterion=squared_error, max_depth=4, max_features=log2, n_estimators=200; total time=   0.1s\n",
      "[CV] END criterion=squared_error, max_depth=4, max_features=log2, n_estimators=200; total time=   0.0s\n",
      "[CV] END criterion=squared_error, max_depth=4, max_features=log2, n_estimators=200; total time=   0.0s\n",
      "[CV] END criterion=squared_error, max_depth=4, max_features=log2, n_estimators=200; total time=   0.1s\n",
      "[CV] END criterion=squared_error, max_depth=4, max_features=log2, n_estimators=200; total time=   0.1s\n",
      "[CV] END criterion=squared_error, max_depth=4, max_features=log2, n_estimators=500; total time=   0.3s\n",
      "[CV] END criterion=squared_error, max_depth=4, max_features=log2, n_estimators=500; total time=   0.3s\n",
      "[CV] END criterion=squared_error, max_depth=4, max_features=log2, n_estimators=500; total time=   0.3s\n",
      "[CV] END criterion=squared_error, max_depth=4, max_features=log2, n_estimators=500; total time=   0.3s\n",
      "[CV] END criterion=squared_error, max_depth=4, max_features=log2, n_estimators=500; total time=   0.3s\n",
      "[CV] END criterion=squared_error, max_depth=5, max_features=auto, n_estimators=100; total time=   0.0s\n",
      "[CV] END criterion=squared_error, max_depth=5, max_features=auto, n_estimators=100; total time=   0.0s\n",
      "[CV] END criterion=squared_error, max_depth=5, max_features=auto, n_estimators=100; total time=   0.0s\n",
      "[CV] END criterion=squared_error, max_depth=5, max_features=auto, n_estimators=100; total time=   0.0s\n",
      "[CV] END criterion=squared_error, max_depth=5, max_features=auto, n_estimators=100; total time=   0.0s\n",
      "[CV] END criterion=squared_error, max_depth=5, max_features=auto, n_estimators=200; total time=   0.1s\n",
      "[CV] END criterion=squared_error, max_depth=5, max_features=auto, n_estimators=200; total time=   0.0s\n",
      "[CV] END criterion=squared_error, max_depth=5, max_features=auto, n_estimators=200; total time=   0.1s\n",
      "[CV] END criterion=squared_error, max_depth=5, max_features=auto, n_estimators=200; total time=   0.0s\n",
      "[CV] END criterion=squared_error, max_depth=5, max_features=auto, n_estimators=200; total time=   0.0s\n",
      "[CV] END criterion=squared_error, max_depth=5, max_features=auto, n_estimators=500; total time=   0.3s\n",
      "[CV] END criterion=squared_error, max_depth=5, max_features=auto, n_estimators=500; total time=   0.3s\n",
      "[CV] END criterion=squared_error, max_depth=5, max_features=auto, n_estimators=500; total time=   0.3s\n",
      "[CV] END criterion=squared_error, max_depth=5, max_features=auto, n_estimators=500; total time=   0.3s\n",
      "[CV] END criterion=squared_error, max_depth=5, max_features=auto, n_estimators=500; total time=   0.3s\n",
      "[CV] END criterion=squared_error, max_depth=5, max_features=sqrt, n_estimators=100; total time=   0.0s\n",
      "[CV] END criterion=squared_error, max_depth=5, max_features=sqrt, n_estimators=100; total time=   0.0s\n",
      "[CV] END criterion=squared_error, max_depth=5, max_features=sqrt, n_estimators=100; total time=   0.0s\n",
      "[CV] END criterion=squared_error, max_depth=5, max_features=sqrt, n_estimators=100; total time=   0.0s\n",
      "[CV] END criterion=squared_error, max_depth=5, max_features=sqrt, n_estimators=100; total time=   0.0s\n",
      "[CV] END criterion=squared_error, max_depth=5, max_features=sqrt, n_estimators=200; total time=   0.1s\n",
      "[CV] END criterion=squared_error, max_depth=5, max_features=sqrt, n_estimators=200; total time=   0.1s\n",
      "[CV] END criterion=squared_error, max_depth=5, max_features=sqrt, n_estimators=200; total time=   0.1s\n",
      "[CV] END criterion=squared_error, max_depth=5, max_features=sqrt, n_estimators=200; total time=   0.1s\n",
      "[CV] END criterion=squared_error, max_depth=5, max_features=sqrt, n_estimators=200; total time=   0.1s\n",
      "[CV] END criterion=squared_error, max_depth=5, max_features=sqrt, n_estimators=500; total time=   0.3s\n",
      "[CV] END criterion=squared_error, max_depth=5, max_features=sqrt, n_estimators=500; total time=   0.3s\n",
      "[CV] END criterion=squared_error, max_depth=5, max_features=sqrt, n_estimators=500; total time=   0.3s\n",
      "[CV] END criterion=squared_error, max_depth=5, max_features=sqrt, n_estimators=500; total time=   0.3s\n",
      "[CV] END criterion=squared_error, max_depth=5, max_features=sqrt, n_estimators=500; total time=   0.3s\n",
      "[CV] END criterion=squared_error, max_depth=5, max_features=log2, n_estimators=100; total time=   0.0s\n",
      "[CV] END criterion=squared_error, max_depth=5, max_features=log2, n_estimators=100; total time=   0.0s\n",
      "[CV] END criterion=squared_error, max_depth=5, max_features=log2, n_estimators=100; total time=   0.0s\n",
      "[CV] END criterion=squared_error, max_depth=5, max_features=log2, n_estimators=100; total time=   0.0s\n",
      "[CV] END criterion=squared_error, max_depth=5, max_features=log2, n_estimators=100; total time=   0.0s\n",
      "[CV] END criterion=squared_error, max_depth=5, max_features=log2, n_estimators=200; total time=   0.1s\n",
      "[CV] END criterion=squared_error, max_depth=5, max_features=log2, n_estimators=200; total time=   0.0s\n",
      "[CV] END criterion=squared_error, max_depth=5, max_features=log2, n_estimators=200; total time=   0.1s\n",
      "[CV] END criterion=squared_error, max_depth=5, max_features=log2, n_estimators=200; total time=   0.1s\n",
      "[CV] END criterion=squared_error, max_depth=5, max_features=log2, n_estimators=200; total time=   0.1s\n",
      "[CV] END criterion=squared_error, max_depth=5, max_features=log2, n_estimators=500; total time=   0.3s\n",
      "[CV] END criterion=squared_error, max_depth=5, max_features=log2, n_estimators=500; total time=   0.3s\n",
      "[CV] END criterion=squared_error, max_depth=5, max_features=log2, n_estimators=500; total time=   0.3s\n",
      "[CV] END criterion=squared_error, max_depth=5, max_features=log2, n_estimators=500; total time=   0.3s\n",
      "[CV] END criterion=squared_error, max_depth=5, max_features=log2, n_estimators=500; total time=   0.3s\n",
      "[CV] END criterion=squared_error, max_depth=6, max_features=auto, n_estimators=100; total time=   0.0s\n",
      "[CV] END criterion=squared_error, max_depth=6, max_features=auto, n_estimators=100; total time=   0.0s\n",
      "[CV] END criterion=squared_error, max_depth=6, max_features=auto, n_estimators=100; total time=   0.0s\n",
      "[CV] END criterion=squared_error, max_depth=6, max_features=auto, n_estimators=100; total time=   0.0s\n",
      "[CV] END criterion=squared_error, max_depth=6, max_features=auto, n_estimators=100; total time=   0.0s\n",
      "[CV] END criterion=squared_error, max_depth=6, max_features=auto, n_estimators=200; total time=   0.1s\n",
      "[CV] END criterion=squared_error, max_depth=6, max_features=auto, n_estimators=200; total time=   0.1s\n",
      "[CV] END criterion=squared_error, max_depth=6, max_features=auto, n_estimators=200; total time=   0.0s\n",
      "[CV] END criterion=squared_error, max_depth=6, max_features=auto, n_estimators=200; total time=   0.1s\n",
      "[CV] END criterion=squared_error, max_depth=6, max_features=auto, n_estimators=200; total time=   0.1s\n",
      "[CV] END criterion=squared_error, max_depth=6, max_features=auto, n_estimators=500; total time=   0.3s\n",
      "[CV] END criterion=squared_error, max_depth=6, max_features=auto, n_estimators=500; total time=   0.3s\n",
      "[CV] END criterion=squared_error, max_depth=6, max_features=auto, n_estimators=500; total time=   0.3s\n",
      "[CV] END criterion=squared_error, max_depth=6, max_features=auto, n_estimators=500; total time=   0.3s\n",
      "[CV] END criterion=squared_error, max_depth=6, max_features=auto, n_estimators=500; total time=   0.3s\n",
      "[CV] END criterion=squared_error, max_depth=6, max_features=sqrt, n_estimators=100; total time=   0.0s\n",
      "[CV] END criterion=squared_error, max_depth=6, max_features=sqrt, n_estimators=100; total time=   0.0s\n",
      "[CV] END criterion=squared_error, max_depth=6, max_features=sqrt, n_estimators=100; total time=   0.0s\n",
      "[CV] END criterion=squared_error, max_depth=6, max_features=sqrt, n_estimators=100; total time=   0.0s\n",
      "[CV] END criterion=squared_error, max_depth=6, max_features=sqrt, n_estimators=100; total time=   0.0s\n",
      "[CV] END criterion=squared_error, max_depth=6, max_features=sqrt, n_estimators=200; total time=   0.1s\n",
      "[CV] END criterion=squared_error, max_depth=6, max_features=sqrt, n_estimators=200; total time=   0.0s\n",
      "[CV] END criterion=squared_error, max_depth=6, max_features=sqrt, n_estimators=200; total time=   0.1s\n",
      "[CV] END criterion=squared_error, max_depth=6, max_features=sqrt, n_estimators=200; total time=   0.1s\n",
      "[CV] END criterion=squared_error, max_depth=6, max_features=sqrt, n_estimators=200; total time=   0.1s\n",
      "[CV] END criterion=squared_error, max_depth=6, max_features=sqrt, n_estimators=500; total time=   0.3s\n",
      "[CV] END criterion=squared_error, max_depth=6, max_features=sqrt, n_estimators=500; total time=   0.3s\n",
      "[CV] END criterion=squared_error, max_depth=6, max_features=sqrt, n_estimators=500; total time=   0.3s\n",
      "[CV] END criterion=squared_error, max_depth=6, max_features=sqrt, n_estimators=500; total time=   0.3s\n",
      "[CV] END criterion=squared_error, max_depth=6, max_features=sqrt, n_estimators=500; total time=   0.3s\n",
      "[CV] END criterion=squared_error, max_depth=6, max_features=log2, n_estimators=100; total time=   0.0s\n",
      "[CV] END criterion=squared_error, max_depth=6, max_features=log2, n_estimators=100; total time=   0.0s\n",
      "[CV] END criterion=squared_error, max_depth=6, max_features=log2, n_estimators=100; total time=   0.0s\n",
      "[CV] END criterion=squared_error, max_depth=6, max_features=log2, n_estimators=100; total time=   0.0s\n",
      "[CV] END criterion=squared_error, max_depth=6, max_features=log2, n_estimators=100; total time=   0.0s\n",
      "[CV] END criterion=squared_error, max_depth=6, max_features=log2, n_estimators=200; total time=   0.1s\n",
      "[CV] END criterion=squared_error, max_depth=6, max_features=log2, n_estimators=200; total time=   0.0s\n",
      "[CV] END criterion=squared_error, max_depth=6, max_features=log2, n_estimators=200; total time=   0.1s\n",
      "[CV] END criterion=squared_error, max_depth=6, max_features=log2, n_estimators=200; total time=   0.1s\n",
      "[CV] END criterion=squared_error, max_depth=6, max_features=log2, n_estimators=200; total time=   0.1s\n",
      "[CV] END criterion=squared_error, max_depth=6, max_features=log2, n_estimators=500; total time=   0.3s\n",
      "[CV] END criterion=squared_error, max_depth=6, max_features=log2, n_estimators=500; total time=   0.3s\n",
      "[CV] END criterion=squared_error, max_depth=6, max_features=log2, n_estimators=500; total time=   0.3s\n",
      "[CV] END criterion=squared_error, max_depth=6, max_features=log2, n_estimators=500; total time=   0.3s\n",
      "[CV] END criterion=squared_error, max_depth=6, max_features=log2, n_estimators=500; total time=   0.3s\n"
     ]
    },
    {
     "data": {
      "text/plain": [
       "{'criterion': 'squared_error',\n",
       " 'max_depth': 4,\n",
       " 'max_features': 'auto',\n",
       " 'n_estimators': 200}"
      ]
     },
     "execution_count": 24,
     "metadata": {},
     "output_type": "execute_result"
    }
   ],
   "source": [
    "random_forest_tuning = RandomForestRegressor(random_state=0)\n",
    "param_grid = {\n",
    "   'n_estimators': [100, 200, 500],\n",
    "   'max_features': ['auto', 'sqrt', 'log2'],\n",
    "   'max_depth' : [4, 5, 6],\n",
    "   'criterion' :['squared_error']\n",
    "}\n",
    "GSCV = GridSearchCV(estimator=random_forest_tuning, param_grid=param_grid, cv=5, verbose=2)\n",
    "GSCV.fit(X_train, y_train.values.ravel())\n",
    "GSCV.best_params_ "
   ]
  },
  {
   "cell_type": "code",
   "execution_count": 25,
   "metadata": {
    "colab": {
     "base_uri": "https://localhost:8080/"
    },
    "executionInfo": {
     "elapsed": 375,
     "status": "ok",
     "timestamp": 1669041827917,
     "user": {
      "displayName": "Marat Gilmanov",
      "userId": "01427133271764782702"
     },
     "user_tz": -180
    },
    "id": "Tt2DW3S5JM4k",
    "outputId": "b9860cfd-7657-4efa-f7d3-07fb708d5849"
   },
   "outputs": [
    {
     "data": {
      "text/plain": [
       "RandomForestRegressor(max_depth=4, n_estimators=200, random_state=0)"
      ]
     },
     "execution_count": 25,
     "metadata": {},
     "output_type": "execute_result"
    }
   ],
   "source": [
    "rf_width = GSCV.best_estimator_\n",
    "rf_width"
   ]
  },
  {
   "cell_type": "markdown",
   "metadata": {},
   "source": [
    "Используем гиперпараметры, при которых модель показала себя наилучшим образом."
   ]
  },
  {
   "cell_type": "code",
   "execution_count": 26,
   "metadata": {
    "executionInfo": {
     "elapsed": 263,
     "status": "ok",
     "timestamp": 1669041851400,
     "user": {
      "displayName": "Marat Gilmanov",
      "userId": "01427133271764782702"
     },
     "user_tz": -180
    },
    "id": "EDjz4kRpJe7w"
   },
   "outputs": [],
   "source": [
    "rf_width = RandomForestRegressor(max_depth=5, n_estimators=100, max_features='auto', random_state=0)"
   ]
  },
  {
   "cell_type": "code",
   "execution_count": 27,
   "metadata": {
    "colab": {
     "base_uri": "https://localhost:8080/"
    },
    "executionInfo": {
     "elapsed": 1784,
     "status": "ok",
     "timestamp": 1669041854894,
     "user": {
      "displayName": "Marat Gilmanov",
      "userId": "01427133271764782702"
     },
     "user_tz": -180
    },
    "id": "YNCIShGCJvpL",
    "outputId": "0b69fcfd-70fa-4070-cc64-6378c9e95be1"
   },
   "outputs": [
    {
     "data": {
      "text/plain": [
       "RandomForestRegressor(max_depth=5, random_state=0)"
      ]
     },
     "execution_count": 27,
     "metadata": {},
     "output_type": "execute_result"
    }
   ],
   "source": [
    "rf_width.fit(X_train, y_train.values.ravel())"
   ]
  },
  {
   "cell_type": "code",
   "execution_count": 28,
   "metadata": {
    "colab": {
     "base_uri": "https://localhost:8080/",
     "height": 283
    },
    "executionInfo": {
     "elapsed": 386,
     "status": "ok",
     "timestamp": 1669041862341,
     "user": {
      "displayName": "Marat Gilmanov",
      "userId": "01427133271764782702"
     },
     "user_tz": -180
    },
    "id": "pRoqdwUjJ2gk",
    "outputId": "8d973fe9-8f82-47ba-cffe-b297377b1384"
   },
   "outputs": [],
   "source": [
    "test_predictions = rf_width.predict(X_test)\n",
    "\n",
    "a = plt.axes(aspect='equal')\n",
    "plt.scatter(y_test, test_predictions)\n",
    "plt.xlabel('True Values [MPG]')\n",
    "plt.ylabel('Predictions [MPG]')\n",
    "lims = [0, 2]\n",
    "plt.xlim(lims)\n",
    "plt.ylim(lims)\n",
    "_ = plt.plot(lims, lims)"
   ]
  },
  {
   "cell_type": "code",
   "execution_count": 29,
   "metadata": {
    "colab": {
     "base_uri": "https://localhost:8080/"
    },
    "executionInfo": {
     "elapsed": 371,
     "status": "ok",
     "timestamp": 1669041866331,
     "user": {
      "displayName": "Marat Gilmanov",
      "userId": "01427133271764782702"
     },
     "user_tz": -180
    },
    "id": "GCCwv33tJ54e",
    "outputId": "17d616c0-eb61-4a12-ae1e-88c7a0be0886"
   },
   "outputs": [
    {
     "data": {
      "text/plain": [
       "0.9671951315707252"
      ]
     },
     "execution_count": 29,
     "metadata": {},
     "output_type": "execute_result"
    }
   ],
   "source": [
    "rf_width.score(X_test, y_test)"
   ]
  },
  {
   "cell_type": "code",
   "execution_count": 30,
   "metadata": {
    "colab": {
     "base_uri": "https://localhost:8080/"
    },
    "executionInfo": {
     "elapsed": 11,
     "status": "ok",
     "timestamp": 1669041828166,
     "user": {
      "displayName": "Marat Gilmanov",
      "userId": "01427133271764782702"
     },
     "user_tz": -180
    },
    "id": "LqRe6pgNKCq-",
    "outputId": "2e4d9027-388a-4074-8b00-5ec1c4788f4a"
   },
   "outputs": [
    {
     "data": {
      "text/plain": [
       "array([1.82268605, 1.78577149, 1.97583   , 1.77712995, 1.78577149,\n",
       "       1.96052643, 2.23531143, 1.78577149, 2.07358333, 1.78775717,\n",
       "       1.81303857, 2.50590306, 2.50590306, 1.78775717, 2.07358333])"
      ]
     },
     "execution_count": 30,
     "metadata": {},
     "output_type": "execute_result"
    }
   ],
   "source": [
    "rf_width.predict(X_test)"
   ]
  },
  {
   "cell_type": "markdown",
   "metadata": {},
   "source": [
    "Теперь обучим модель для поиска глубины шва (параметр Depth)"
   ]
  },
  {
   "cell_type": "code",
   "execution_count": 31,
   "metadata": {},
   "outputs": [],
   "source": [
    "X_train, X_test, y_train, y_test = train_test_split(X, y['Depth'], test_size=0.2, random_state=1)"
   ]
  },
  {
   "cell_type": "code",
   "execution_count": 32,
   "metadata": {},
   "outputs": [
    {
     "name": "stdout",
     "output_type": "stream",
     "text": [
      "Fitting 5 folds for each of 27 candidates, totalling 135 fits\n",
      "[CV] END criterion=squared_error, max_depth=4, max_features=auto, n_estimators=100; total time=   0.0s\n",
      "[CV] END criterion=squared_error, max_depth=4, max_features=auto, n_estimators=100; total time=   0.0s\n",
      "[CV] END criterion=squared_error, max_depth=4, max_features=auto, n_estimators=100; total time=   0.0s\n",
      "[CV] END criterion=squared_error, max_depth=4, max_features=auto, n_estimators=100; total time=   0.0s\n",
      "[CV] END criterion=squared_error, max_depth=4, max_features=auto, n_estimators=100; total time=   0.0s\n",
      "[CV] END criterion=squared_error, max_depth=4, max_features=auto, n_estimators=200; total time=   0.1s\n",
      "[CV] END criterion=squared_error, max_depth=4, max_features=auto, n_estimators=200; total time=   0.0s\n",
      "[CV] END criterion=squared_error, max_depth=4, max_features=auto, n_estimators=200; total time=   0.0s\n",
      "[CV] END criterion=squared_error, max_depth=4, max_features=auto, n_estimators=200; total time=   0.1s\n",
      "[CV] END criterion=squared_error, max_depth=4, max_features=auto, n_estimators=200; total time=   0.1s\n",
      "[CV] END criterion=squared_error, max_depth=4, max_features=auto, n_estimators=500; total time=   0.3s\n",
      "[CV] END criterion=squared_error, max_depth=4, max_features=auto, n_estimators=500; total time=   0.3s\n",
      "[CV] END criterion=squared_error, max_depth=4, max_features=auto, n_estimators=500; total time=   0.3s\n",
      "[CV] END criterion=squared_error, max_depth=4, max_features=auto, n_estimators=500; total time=   0.3s\n",
      "[CV] END criterion=squared_error, max_depth=4, max_features=auto, n_estimators=500; total time=   0.3s\n",
      "[CV] END criterion=squared_error, max_depth=4, max_features=sqrt, n_estimators=100; total time=   0.0s\n",
      "[CV] END criterion=squared_error, max_depth=4, max_features=sqrt, n_estimators=100; total time=   0.0s\n",
      "[CV] END criterion=squared_error, max_depth=4, max_features=sqrt, n_estimators=100; total time=   0.0s\n",
      "[CV] END criterion=squared_error, max_depth=4, max_features=sqrt, n_estimators=100; total time=   0.0s\n",
      "[CV] END criterion=squared_error, max_depth=4, max_features=sqrt, n_estimators=100; total time=   0.0s\n",
      "[CV] END criterion=squared_error, max_depth=4, max_features=sqrt, n_estimators=200; total time=   0.1s\n",
      "[CV] END criterion=squared_error, max_depth=4, max_features=sqrt, n_estimators=200; total time=   0.0s\n",
      "[CV] END criterion=squared_error, max_depth=4, max_features=sqrt, n_estimators=200; total time=   0.1s\n",
      "[CV] END criterion=squared_error, max_depth=4, max_features=sqrt, n_estimators=200; total time=   0.1s\n",
      "[CV] END criterion=squared_error, max_depth=4, max_features=sqrt, n_estimators=200; total time=   0.0s\n",
      "[CV] END criterion=squared_error, max_depth=4, max_features=sqrt, n_estimators=500; total time=   0.3s\n",
      "[CV] END criterion=squared_error, max_depth=4, max_features=sqrt, n_estimators=500; total time=   0.3s\n",
      "[CV] END criterion=squared_error, max_depth=4, max_features=sqrt, n_estimators=500; total time=   0.3s\n",
      "[CV] END criterion=squared_error, max_depth=4, max_features=sqrt, n_estimators=500; total time=   0.3s\n",
      "[CV] END criterion=squared_error, max_depth=4, max_features=sqrt, n_estimators=500; total time=   0.3s\n",
      "[CV] END criterion=squared_error, max_depth=4, max_features=log2, n_estimators=100; total time=   0.0s\n",
      "[CV] END criterion=squared_error, max_depth=4, max_features=log2, n_estimators=100; total time=   0.0s\n",
      "[CV] END criterion=squared_error, max_depth=4, max_features=log2, n_estimators=100; total time=   0.0s\n",
      "[CV] END criterion=squared_error, max_depth=4, max_features=log2, n_estimators=100; total time=   0.0s\n",
      "[CV] END criterion=squared_error, max_depth=4, max_features=log2, n_estimators=100; total time=   0.0s\n",
      "[CV] END criterion=squared_error, max_depth=4, max_features=log2, n_estimators=200; total time=   0.1s\n",
      "[CV] END criterion=squared_error, max_depth=4, max_features=log2, n_estimators=200; total time=   0.0s\n",
      "[CV] END criterion=squared_error, max_depth=4, max_features=log2, n_estimators=200; total time=   0.1s\n",
      "[CV] END criterion=squared_error, max_depth=4, max_features=log2, n_estimators=200; total time=   0.1s\n",
      "[CV] END criterion=squared_error, max_depth=4, max_features=log2, n_estimators=200; total time=   0.0s\n",
      "[CV] END criterion=squared_error, max_depth=4, max_features=log2, n_estimators=500; total time=   0.3s\n",
      "[CV] END criterion=squared_error, max_depth=4, max_features=log2, n_estimators=500; total time=   0.3s\n",
      "[CV] END criterion=squared_error, max_depth=4, max_features=log2, n_estimators=500; total time=   0.3s\n",
      "[CV] END criterion=squared_error, max_depth=4, max_features=log2, n_estimators=500; total time=   0.3s\n",
      "[CV] END criterion=squared_error, max_depth=4, max_features=log2, n_estimators=500; total time=   0.3s\n",
      "[CV] END criterion=squared_error, max_depth=5, max_features=auto, n_estimators=100; total time=   0.0s\n",
      "[CV] END criterion=squared_error, max_depth=5, max_features=auto, n_estimators=100; total time=   0.0s\n",
      "[CV] END criterion=squared_error, max_depth=5, max_features=auto, n_estimators=100; total time=   0.0s\n",
      "[CV] END criterion=squared_error, max_depth=5, max_features=auto, n_estimators=100; total time=   0.0s\n",
      "[CV] END criterion=squared_error, max_depth=5, max_features=auto, n_estimators=100; total time=   0.0s\n",
      "[CV] END criterion=squared_error, max_depth=5, max_features=auto, n_estimators=200; total time=   0.1s\n",
      "[CV] END criterion=squared_error, max_depth=5, max_features=auto, n_estimators=200; total time=   0.0s\n",
      "[CV] END criterion=squared_error, max_depth=5, max_features=auto, n_estimators=200; total time=   0.1s\n",
      "[CV] END criterion=squared_error, max_depth=5, max_features=auto, n_estimators=200; total time=   0.1s\n",
      "[CV] END criterion=squared_error, max_depth=5, max_features=auto, n_estimators=200; total time=   0.1s\n",
      "[CV] END criterion=squared_error, max_depth=5, max_features=auto, n_estimators=500; total time=   0.3s\n",
      "[CV] END criterion=squared_error, max_depth=5, max_features=auto, n_estimators=500; total time=   0.3s\n",
      "[CV] END criterion=squared_error, max_depth=5, max_features=auto, n_estimators=500; total time=   0.3s\n",
      "[CV] END criterion=squared_error, max_depth=5, max_features=auto, n_estimators=500; total time=   0.3s\n",
      "[CV] END criterion=squared_error, max_depth=5, max_features=auto, n_estimators=500; total time=   0.3s\n",
      "[CV] END criterion=squared_error, max_depth=5, max_features=sqrt, n_estimators=100; total time=   0.0s\n",
      "[CV] END criterion=squared_error, max_depth=5, max_features=sqrt, n_estimators=100; total time=   0.0s\n",
      "[CV] END criterion=squared_error, max_depth=5, max_features=sqrt, n_estimators=100; total time=   0.0s\n",
      "[CV] END criterion=squared_error, max_depth=5, max_features=sqrt, n_estimators=100; total time=   0.0s\n",
      "[CV] END criterion=squared_error, max_depth=5, max_features=sqrt, n_estimators=100; total time=   0.0s\n",
      "[CV] END criterion=squared_error, max_depth=5, max_features=sqrt, n_estimators=200; total time=   0.1s\n",
      "[CV] END criterion=squared_error, max_depth=5, max_features=sqrt, n_estimators=200; total time=   0.0s\n",
      "[CV] END criterion=squared_error, max_depth=5, max_features=sqrt, n_estimators=200; total time=   0.1s\n",
      "[CV] END criterion=squared_error, max_depth=5, max_features=sqrt, n_estimators=200; total time=   0.1s\n",
      "[CV] END criterion=squared_error, max_depth=5, max_features=sqrt, n_estimators=200; total time=   0.1s\n",
      "[CV] END criterion=squared_error, max_depth=5, max_features=sqrt, n_estimators=500; total time=   0.3s\n",
      "[CV] END criterion=squared_error, max_depth=5, max_features=sqrt, n_estimators=500; total time=   0.3s\n",
      "[CV] END criterion=squared_error, max_depth=5, max_features=sqrt, n_estimators=500; total time=   0.3s\n",
      "[CV] END criterion=squared_error, max_depth=5, max_features=sqrt, n_estimators=500; total time=   0.3s\n",
      "[CV] END criterion=squared_error, max_depth=5, max_features=sqrt, n_estimators=500; total time=   0.3s\n",
      "[CV] END criterion=squared_error, max_depth=5, max_features=log2, n_estimators=100; total time=   0.0s\n",
      "[CV] END criterion=squared_error, max_depth=5, max_features=log2, n_estimators=100; total time=   0.0s\n",
      "[CV] END criterion=squared_error, max_depth=5, max_features=log2, n_estimators=100; total time=   0.0s\n",
      "[CV] END criterion=squared_error, max_depth=5, max_features=log2, n_estimators=100; total time=   0.0s\n",
      "[CV] END criterion=squared_error, max_depth=5, max_features=log2, n_estimators=100; total time=   0.0s\n",
      "[CV] END criterion=squared_error, max_depth=5, max_features=log2, n_estimators=200; total time=   0.1s\n",
      "[CV] END criterion=squared_error, max_depth=5, max_features=log2, n_estimators=200; total time=   0.1s\n",
      "[CV] END criterion=squared_error, max_depth=5, max_features=log2, n_estimators=200; total time=   0.1s\n",
      "[CV] END criterion=squared_error, max_depth=5, max_features=log2, n_estimators=200; total time=   0.0s\n",
      "[CV] END criterion=squared_error, max_depth=5, max_features=log2, n_estimators=200; total time=   0.1s\n",
      "[CV] END criterion=squared_error, max_depth=5, max_features=log2, n_estimators=500; total time=   0.3s\n",
      "[CV] END criterion=squared_error, max_depth=5, max_features=log2, n_estimators=500; total time=   0.3s\n",
      "[CV] END criterion=squared_error, max_depth=5, max_features=log2, n_estimators=500; total time=   0.3s\n",
      "[CV] END criterion=squared_error, max_depth=5, max_features=log2, n_estimators=500; total time=   0.3s\n",
      "[CV] END criterion=squared_error, max_depth=5, max_features=log2, n_estimators=500; total time=   0.3s\n",
      "[CV] END criterion=squared_error, max_depth=6, max_features=auto, n_estimators=100; total time=   0.0s\n",
      "[CV] END criterion=squared_error, max_depth=6, max_features=auto, n_estimators=100; total time=   0.0s\n",
      "[CV] END criterion=squared_error, max_depth=6, max_features=auto, n_estimators=100; total time=   0.0s\n",
      "[CV] END criterion=squared_error, max_depth=6, max_features=auto, n_estimators=100; total time=   0.0s\n",
      "[CV] END criterion=squared_error, max_depth=6, max_features=auto, n_estimators=100; total time=   0.0s\n",
      "[CV] END criterion=squared_error, max_depth=6, max_features=auto, n_estimators=200; total time=   0.1s\n",
      "[CV] END criterion=squared_error, max_depth=6, max_features=auto, n_estimators=200; total time=   0.1s\n",
      "[CV] END criterion=squared_error, max_depth=6, max_features=auto, n_estimators=200; total time=   0.1s\n",
      "[CV] END criterion=squared_error, max_depth=6, max_features=auto, n_estimators=200; total time=   0.1s\n",
      "[CV] END criterion=squared_error, max_depth=6, max_features=auto, n_estimators=200; total time=   0.0s\n",
      "[CV] END criterion=squared_error, max_depth=6, max_features=auto, n_estimators=500; total time=   0.3s\n",
      "[CV] END criterion=squared_error, max_depth=6, max_features=auto, n_estimators=500; total time=   0.3s\n",
      "[CV] END criterion=squared_error, max_depth=6, max_features=auto, n_estimators=500; total time=   0.3s\n",
      "[CV] END criterion=squared_error, max_depth=6, max_features=auto, n_estimators=500; total time=   0.3s\n",
      "[CV] END criterion=squared_error, max_depth=6, max_features=auto, n_estimators=500; total time=   0.3s\n",
      "[CV] END criterion=squared_error, max_depth=6, max_features=sqrt, n_estimators=100; total time=   0.0s\n",
      "[CV] END criterion=squared_error, max_depth=6, max_features=sqrt, n_estimators=100; total time=   0.0s\n",
      "[CV] END criterion=squared_error, max_depth=6, max_features=sqrt, n_estimators=100; total time=   0.0s\n",
      "[CV] END criterion=squared_error, max_depth=6, max_features=sqrt, n_estimators=100; total time=   0.0s\n",
      "[CV] END criterion=squared_error, max_depth=6, max_features=sqrt, n_estimators=100; total time=   0.0s\n",
      "[CV] END criterion=squared_error, max_depth=6, max_features=sqrt, n_estimators=200; total time=   0.1s\n",
      "[CV] END criterion=squared_error, max_depth=6, max_features=sqrt, n_estimators=200; total time=   0.0s\n",
      "[CV] END criterion=squared_error, max_depth=6, max_features=sqrt, n_estimators=200; total time=   0.1s\n",
      "[CV] END criterion=squared_error, max_depth=6, max_features=sqrt, n_estimators=200; total time=   0.1s\n",
      "[CV] END criterion=squared_error, max_depth=6, max_features=sqrt, n_estimators=200; total time=   0.1s\n",
      "[CV] END criterion=squared_error, max_depth=6, max_features=sqrt, n_estimators=500; total time=   0.3s\n",
      "[CV] END criterion=squared_error, max_depth=6, max_features=sqrt, n_estimators=500; total time=   0.3s\n",
      "[CV] END criterion=squared_error, max_depth=6, max_features=sqrt, n_estimators=500; total time=   0.3s\n",
      "[CV] END criterion=squared_error, max_depth=6, max_features=sqrt, n_estimators=500; total time=   0.4s\n",
      "[CV] END criterion=squared_error, max_depth=6, max_features=sqrt, n_estimators=500; total time=   0.3s\n",
      "[CV] END criterion=squared_error, max_depth=6, max_features=log2, n_estimators=100; total time=   0.0s\n",
      "[CV] END criterion=squared_error, max_depth=6, max_features=log2, n_estimators=100; total time=   0.0s\n",
      "[CV] END criterion=squared_error, max_depth=6, max_features=log2, n_estimators=100; total time=   0.0s\n",
      "[CV] END criterion=squared_error, max_depth=6, max_features=log2, n_estimators=100; total time=   0.0s\n",
      "[CV] END criterion=squared_error, max_depth=6, max_features=log2, n_estimators=100; total time=   0.0s\n",
      "[CV] END criterion=squared_error, max_depth=6, max_features=log2, n_estimators=200; total time=   0.1s\n",
      "[CV] END criterion=squared_error, max_depth=6, max_features=log2, n_estimators=200; total time=   0.1s\n",
      "[CV] END criterion=squared_error, max_depth=6, max_features=log2, n_estimators=200; total time=   0.1s\n",
      "[CV] END criterion=squared_error, max_depth=6, max_features=log2, n_estimators=200; total time=   0.0s\n",
      "[CV] END criterion=squared_error, max_depth=6, max_features=log2, n_estimators=200; total time=   0.1s\n",
      "[CV] END criterion=squared_error, max_depth=6, max_features=log2, n_estimators=500; total time=   0.3s\n",
      "[CV] END criterion=squared_error, max_depth=6, max_features=log2, n_estimators=500; total time=   0.3s\n",
      "[CV] END criterion=squared_error, max_depth=6, max_features=log2, n_estimators=500; total time=   0.3s\n",
      "[CV] END criterion=squared_error, max_depth=6, max_features=log2, n_estimators=500; total time=   0.3s\n",
      "[CV] END criterion=squared_error, max_depth=6, max_features=log2, n_estimators=500; total time=   0.3s\n"
     ]
    },
    {
     "data": {
      "text/plain": [
       "{'criterion': 'squared_error',\n",
       " 'max_depth': 5,\n",
       " 'max_features': 'auto',\n",
       " 'n_estimators': 500}"
      ]
     },
     "execution_count": 32,
     "metadata": {},
     "output_type": "execute_result"
    }
   ],
   "source": [
    "random_forest_tuning = RandomForestRegressor(random_state=0)\n",
    "param_grid = {\n",
    "   'n_estimators': [100, 200, 500],\n",
    "   'max_features': ['auto', 'sqrt', 'log2'],\n",
    "   'max_depth' : [4, 5, 6],\n",
    "   'criterion' :['squared_error']\n",
    "}\n",
    "GSCV = GridSearchCV(estimator=random_forest_tuning, param_grid=param_grid, cv=5, verbose=2)\n",
    "GSCV.fit(X_train, y_train.values.ravel())\n",
    "GSCV.best_params_ "
   ]
  },
  {
   "cell_type": "code",
   "execution_count": 33,
   "metadata": {},
   "outputs": [],
   "source": [
    "rf_depth = RandomForestRegressor(max_depth=5, n_estimators=500, max_features='auto', random_state=0)"
   ]
  },
  {
   "cell_type": "code",
   "execution_count": 34,
   "metadata": {},
   "outputs": [
    {
     "data": {
      "text/plain": [
       "RandomForestRegressor(max_depth=5, n_estimators=500, random_state=0)"
      ]
     },
     "execution_count": 34,
     "metadata": {},
     "output_type": "execute_result"
    }
   ],
   "source": [
    "rf_depth.fit(X_train, y_train.values.ravel())"
   ]
  },
  {
   "cell_type": "code",
   "execution_count": 35,
   "metadata": {},
   "outputs": [
    {
     "data": {
      "image/png": "[encoded data removed]",
      "text/plain": [
       "<Figure size 640x480 with 2 Axes>"
      ]
     },
     "metadata": {},
     "output_type": "display_data"
    }
   ],
   "source": [
    "test_predictions = rf_depth.predict(X_test)\n",
    "\n",
    "a = plt.axes(aspect='equal')\n",
    "sns.scatterplot(x=y_test, y=test_predictions)\n",
    "plt.xlabel('True Values [MPG]')\n",
    "plt.ylabel('Predictions [MPG]')\n",
    "lims = [0, 2]\n",
    "plt.xlim(lims)\n",
    "plt.ylim(lims)\n",
    "_ = plt.plot(lims, lims)\n",
    "plt.show()"
   ]
  },
  {
   "cell_type": "markdown",
   "metadata": {},
   "source": [
    "Оценим точность модели."
   ]
  },
  {
   "cell_type": "code",
   "execution_count": 36,
   "metadata": {},
   "outputs": [
    {
     "data": {
      "text/plain": [
       "0.889587098911711"
      ]
     },
     "execution_count": 36,
     "metadata": {},
     "output_type": "execute_result"
    }
   ],
   "source": [
    "rf_depth.score(X_test, y_test)"
   ]
  },
  {
   "cell_type": "code",
   "execution_count": 37,
   "metadata": {},
   "outputs": [
    {
     "data": {
      "text/plain": [
       "array([1.11537468, 1.13121655, 1.19452286, 1.28875179, 1.13121655,\n",
       "       0.95222529, 0.82799262, 1.13121655, 0.86171917, 1.2239502 ,\n",
       "       1.17028838, 1.48598024, 1.48598024, 1.2239502 , 0.86171917])"
      ]
     },
     "execution_count": 37,
     "metadata": {},
     "output_type": "execute_result"
    }
   ],
   "source": [
    "rf_depth.predict(X_test)"
   ]
  },
  {
   "cell_type": "markdown",
   "metadata": {
    "id": "jI_Uj3MSKoPe"
   },
   "source": [
    "#### Метод K-ближайших соседей"
   ]
  },
  {
   "cell_type": "code",
   "execution_count": 38,
   "metadata": {},
   "outputs": [],
   "source": [
    "from sklearn.neighbors import KNeighborsRegressor"
   ]
  },
  {
   "cell_type": "markdown",
   "metadata": {},
   "source": [
    "При обучении данным методом, подбор гиперпараметров проведем аналогичным способом, с помощью GridSearchCV"
   ]
  },
  {
   "cell_type": "code",
   "execution_count": 39,
   "metadata": {},
   "outputs": [],
   "source": [
    "X_train, X_test, y_train, y_test = train_test_split(X, y['Width'], test_size=0.2, random_state=1)"
   ]
  },
  {
   "cell_type": "code",
   "execution_count": 40,
   "metadata": {
    "colab": {
     "base_uri": "https://localhost:8080/"
    },
    "executionInfo": {
     "elapsed": 26,
     "status": "ok",
     "timestamp": 1669041836680,
     "user": {
      "displayName": "Marat Gilmanov",
      "userId": "01427133271764782702"
     },
     "user_tz": -180
    },
    "id": "ZnlfD3OoKqL7",
    "outputId": "b8f6ec73-038a-4b2a-80fa-44dde47096f0"
   },
   "outputs": [
    {
     "name": "stdout",
     "output_type": "stream",
     "text": [
      "Fitting 10 folds for each of 5 candidates, totalling 50 fits\n",
      "[CV] END ......................................n_neighbors=1; total time=   0.0s\n",
      "[CV] END ......................................n_neighbors=1; total time=   0.0s\n",
      "[CV] END ......................................n_neighbors=1; total time=   0.0s\n",
      "[CV] END ......................................n_neighbors=1; total time=   0.0s\n",
      "[CV] END ......................................n_neighbors=1; total time=   0.0s\n",
      "[CV] END ......................................n_neighbors=1; total time=   0.0s\n",
      "[CV] END ......................................n_neighbors=1; total time=   0.0s\n",
      "[CV] END ......................................n_neighbors=1; total time=   0.0s\n",
      "[CV] END ......................................n_neighbors=1; total time=   0.0s\n",
      "[CV] END ......................................n_neighbors=1; total time=   0.0s\n",
      "[CV] END ......................................n_neighbors=2; total time=   0.0s\n",
      "[CV] END ......................................n_neighbors=2; total time=   0.0s\n",
      "[CV] END ......................................n_neighbors=2; total time=   0.0s\n",
      "[CV] END ......................................n_neighbors=2; total time=   0.0s\n",
      "[CV] END ......................................n_neighbors=2; total time=   0.0s\n",
      "[CV] END ......................................n_neighbors=2; total time=   0.0s\n",
      "[CV] END ......................................n_neighbors=2; total time=   0.0s\n",
      "[CV] END ......................................n_neighbors=2; total time=   0.0s\n",
      "[CV] END ......................................n_neighbors=2; total time=   0.0s\n",
      "[CV] END ......................................n_neighbors=2; total time=   0.0s\n",
      "[CV] END ......................................n_neighbors=5; total time=   0.0s\n",
      "[CV] END ......................................n_neighbors=5; total time=   0.0s\n",
      "[CV] END ......................................n_neighbors=5; total time=   0.0s\n",
      "[CV] END ......................................n_neighbors=5; total time=   0.0s\n",
      "[CV] END ......................................n_neighbors=5; total time=   0.0s\n",
      "[CV] END ......................................n_neighbors=5; total time=   0.0s\n",
      "[CV] END ......................................n_neighbors=5; total time=   0.0s\n",
      "[CV] END ......................................n_neighbors=5; total time=   0.0s\n",
      "[CV] END ......................................n_neighbors=5; total time=   0.0s\n",
      "[CV] END ......................................n_neighbors=5; total time=   0.0s\n",
      "[CV] END .....................................n_neighbors=10; total time=   0.0s\n",
      "[CV] END .....................................n_neighbors=10; total time=   0.0s\n",
      "[CV] END .....................................n_neighbors=10; total time=   0.0s\n",
      "[CV] END .....................................n_neighbors=10; total time=   0.0s\n",
      "[CV] END .....................................n_neighbors=10; total time=   0.0s\n",
      "[CV] END .....................................n_neighbors=10; total time=   0.0s\n",
      "[CV] END .....................................n_neighbors=10; total time=   0.0s\n",
      "[CV] END .....................................n_neighbors=10; total time=   0.0s\n",
      "[CV] END .....................................n_neighbors=10; total time=   0.0s\n",
      "[CV] END .....................................n_neighbors=10; total time=   0.0s\n",
      "[CV] END .....................................n_neighbors=20; total time=   0.0s\n",
      "[CV] END .....................................n_neighbors=20; total time=   0.0s\n",
      "[CV] END .....................................n_neighbors=20; total time=   0.0s\n",
      "[CV] END .....................................n_neighbors=20; total time=   0.0s\n",
      "[CV] END .....................................n_neighbors=20; total time=   0.0s\n",
      "[CV] END .....................................n_neighbors=20; total time=   0.0s\n",
      "[CV] END .....................................n_neighbors=20; total time=   0.0s\n",
      "[CV] END .....................................n_neighbors=20; total time=   0.0s\n",
      "[CV] END .....................................n_neighbors=20; total time=   0.0s\n",
      "[CV] END .....................................n_neighbors=20; total time=   0.0s\n"
     ]
    },
    {
     "data": {
      "text/plain": [
       "{'n_neighbors': 1}"
      ]
     },
     "execution_count": 40,
     "metadata": {},
     "output_type": "execute_result"
    }
   ],
   "source": [
    "knn = KNeighborsRegressor()\n",
    "param_grid = {\n",
    "   'n_neighbors': [1, 2, 5, 10, 20]\n",
    "}\n",
    "GSCV = GridSearchCV(estimator=knn, param_grid=param_grid, cv=10, verbose=2)\n",
    "GSCV.fit(X_train, y_train)\n",
    "GSCV.best_params_ "
   ]
  },
  {
   "cell_type": "code",
   "execution_count": 41,
   "metadata": {
    "colab": {
     "base_uri": "https://localhost:8080/"
    },
    "executionInfo": {
     "elapsed": 24,
     "status": "ok",
     "timestamp": 1669041836681,
     "user": {
      "displayName": "Marat Gilmanov",
      "userId": "01427133271764782702"
     },
     "user_tz": -180
    },
    "id": "MFXZFJpVKq57",
    "outputId": "425d786e-e893-41b2-9ec0-7187433d7da5"
   },
   "outputs": [
    {
     "data": {
      "text/plain": [
       "0.006023466666666672"
      ]
     },
     "execution_count": 41,
     "metadata": {},
     "output_type": "execute_result"
    }
   ],
   "source": [
    "knn.fit(X_train, y_train)\n",
    "prediction=knn.predict(X_test)\n",
    "np.mean((y_test - prediction)*(y_test - prediction))"
   ]
  },
  {
   "cell_type": "code",
   "execution_count": 42,
   "metadata": {
    "colab": {
     "base_uri": "https://localhost:8080/"
    },
    "executionInfo": {
     "elapsed": 21,
     "status": "ok",
     "timestamp": 1669041836681,
     "user": {
      "displayName": "Marat Gilmanov",
      "userId": "01427133271764782702"
     },
     "user_tz": -180
    },
    "id": "ciGfdR5bKuik",
    "outputId": "78e6568e-32d0-40cb-98e4-823ff7983b76"
   },
   "outputs": [
    {
     "data": {
      "text/plain": [
       "0.9120039476418034"
      ]
     },
     "execution_count": 42,
     "metadata": {},
     "output_type": "execute_result"
    }
   ],
   "source": [
    "knn.score(X_test, y_test)"
   ]
  },
  {
   "cell_type": "markdown",
   "metadata": {
    "executionInfo": {
     "elapsed": 19,
     "status": "ok",
     "timestamp": 1669041836682,
     "user": {
      "displayName": "Marat Gilmanov",
      "userId": "01427133271764782702"
     },
     "user_tz": -180
    },
    "id": "FiUKzUyBK1x4"
   },
   "source": [
    "Точность этой модели оказалась несколько ниже, чем у обучения методом случайного леса."
   ]
  },
  {
   "cell_type": "code",
   "execution_count": 43,
   "metadata": {},
   "outputs": [],
   "source": [
    "X_train, X_test, y_train, y_test = train_test_split(X, y['Depth'], test_size=0.2, random_state=1)"
   ]
  },
  {
   "cell_type": "code",
   "execution_count": 44,
   "metadata": {},
   "outputs": [
    {
     "name": "stdout",
     "output_type": "stream",
     "text": [
      "Fitting 10 folds for each of 5 candidates, totalling 50 fits\n",
      "[CV] END ......................................n_neighbors=1; total time=   0.0s\n",
      "[CV] END ......................................n_neighbors=1; total time=   0.0s\n",
      "[CV] END ......................................n_neighbors=1; total time=   0.0s\n",
      "[CV] END ......................................n_neighbors=1; total time=   0.0s\n",
      "[CV] END ......................................n_neighbors=1; total time=   0.0s\n",
      "[CV] END ......................................n_neighbors=1; total time=   0.0s\n",
      "[CV] END ......................................n_neighbors=1; total time=   0.0s\n",
      "[CV] END ......................................n_neighbors=1; total time=   0.0s\n",
      "[CV] END ......................................n_neighbors=1; total time=   0.0s\n",
      "[CV] END ......................................n_neighbors=1; total time=   0.0s\n",
      "[CV] END ......................................n_neighbors=2; total time=   0.0s\n",
      "[CV] END ......................................n_neighbors=2; total time=   0.0s\n",
      "[CV] END ......................................n_neighbors=2; total time=   0.0s\n",
      "[CV] END ......................................n_neighbors=2; total time=   0.0s\n",
      "[CV] END ......................................n_neighbors=2; total time=   0.0s\n",
      "[CV] END ......................................n_neighbors=2; total time=   0.0s\n",
      "[CV] END ......................................n_neighbors=2; total time=   0.0s\n",
      "[CV] END ......................................n_neighbors=2; total time=   0.0s\n",
      "[CV] END ......................................n_neighbors=2; total time=   0.0s\n",
      "[CV] END ......................................n_neighbors=2; total time=   0.0s\n",
      "[CV] END ......................................n_neighbors=5; total time=   0.0s\n",
      "[CV] END ......................................n_neighbors=5; total time=   0.0s\n",
      "[CV] END ......................................n_neighbors=5; total time=   0.0s\n",
      "[CV] END ......................................n_neighbors=5; total time=   0.0s\n",
      "[CV] END ......................................n_neighbors=5; total time=   0.0s\n",
      "[CV] END ......................................n_neighbors=5; total time=   0.0s\n",
      "[CV] END ......................................n_neighbors=5; total time=   0.0s\n",
      "[CV] END ......................................n_neighbors=5; total time=   0.0s\n",
      "[CV] END ......................................n_neighbors=5; total time=   0.0s\n",
      "[CV] END ......................................n_neighbors=5; total time=   0.0s\n",
      "[CV] END .....................................n_neighbors=10; total time=   0.0s\n",
      "[CV] END .....................................n_neighbors=10; total time=   0.0s\n",
      "[CV] END .....................................n_neighbors=10; total time=   0.0s\n",
      "[CV] END .....................................n_neighbors=10; total time=   0.0s\n",
      "[CV] END .....................................n_neighbors=10; total time=   0.0s\n",
      "[CV] END .....................................n_neighbors=10; total time=   0.0s\n",
      "[CV] END .....................................n_neighbors=10; total time=   0.0s\n",
      "[CV] END .....................................n_neighbors=10; total time=   0.0s\n",
      "[CV] END .....................................n_neighbors=10; total time=   0.0s\n",
      "[CV] END .....................................n_neighbors=10; total time=   0.0s\n",
      "[CV] END .....................................n_neighbors=20; total time=   0.0s\n",
      "[CV] END .....................................n_neighbors=20; total time=   0.0s\n",
      "[CV] END .....................................n_neighbors=20; total time=   0.0s\n",
      "[CV] END .....................................n_neighbors=20; total time=   0.0s\n",
      "[CV] END .....................................n_neighbors=20; total time=   0.0s\n",
      "[CV] END .....................................n_neighbors=20; total time=   0.0s\n",
      "[CV] END .....................................n_neighbors=20; total time=   0.0s\n",
      "[CV] END .....................................n_neighbors=20; total time=   0.0s\n",
      "[CV] END .....................................n_neighbors=20; total time=   0.0s\n",
      "[CV] END .....................................n_neighbors=20; total time=   0.0s\n"
     ]
    },
    {
     "data": {
      "text/plain": [
       "{'n_neighbors': 2}"
      ]
     },
     "execution_count": 44,
     "metadata": {},
     "output_type": "execute_result"
    }
   ],
   "source": [
    "knn = KNeighborsRegressor()\n",
    "param_grid = {\n",
    "   'n_neighbors': [1, 2, 5, 10, 20]\n",
    "}\n",
    "GSCV = GridSearchCV(estimator=knn, param_grid=param_grid, cv=10, verbose=2)\n",
    "GSCV.fit(X_train, y_train)\n",
    "GSCV.best_params_ "
   ]
  },
  {
   "cell_type": "code",
   "execution_count": 45,
   "metadata": {},
   "outputs": [
    {
     "data": {
      "text/plain": [
       "0.008333866666666669"
      ]
     },
     "execution_count": 45,
     "metadata": {},
     "output_type": "execute_result"
    }
   ],
   "source": [
    "knn.fit(X_train, y_train)\n",
    "prediction=knn.predict(X_test)\n",
    "np.mean((y_test - prediction)*(y_test - prediction))"
   ]
  },
  {
   "cell_type": "code",
   "execution_count": 46,
   "metadata": {},
   "outputs": [
    {
     "data": {
      "text/plain": [
       "0.8424480742085098"
      ]
     },
     "execution_count": 46,
     "metadata": {},
     "output_type": "execute_result"
    }
   ],
   "source": [
    "knn.score(X_test, y_test)"
   ]
  },
  {
   "cell_type": "markdown",
   "metadata": {},
   "source": [
    "При построении модели для определения параметра 'Depth' метод К-ближайших соседей также показал результаты ниже, чем модель случайного леса."
   ]
  },
  {
   "cell_type": "markdown",
   "metadata": {},
   "source": [
    "**Вывод:** По результатам сравнения точностей обучения нейронной сетью, методом случайного леса и методом K-ближайших соседей, лучший результат показал метод случайного леса."
   ]
  },
  {
   "cell_type": "markdown",
   "metadata": {},
   "source": [
    "### Сохранение модели"
   ]
  },
  {
   "cell_type": "code",
   "execution_count": 47,
   "metadata": {},
   "outputs": [],
   "source": [
    "import pickle"
   ]
  },
  {
   "cell_type": "markdown",
   "metadata": {},
   "source": [
    "Сохраняем модель для расчета параметра 'Width'"
   ]
  },
  {
   "cell_type": "code",
   "execution_count": 48,
   "metadata": {},
   "outputs": [],
   "source": [
    "pickle.dump(rf_width, open('rf_width.pkl', 'wb'))"
   ]
  },
  {
   "cell_type": "markdown",
   "metadata": {},
   "source": [
    "Проверим, правильно ли сохранилась модель."
   ]
  },
  {
   "cell_type": "code",
   "execution_count": 49,
   "metadata": {},
   "outputs": [],
   "source": [
    "model_load_width = pickle.load(open('rf_width.pkl', 'rb'))"
   ]
  },
  {
   "cell_type": "code",
   "execution_count": 50,
   "metadata": {},
   "outputs": [
    {
     "data": {
      "text/plain": [
       "array([1.82268605, 1.78577149, 1.97583   , 1.77712995, 1.78577149,\n",
       "       1.96052643, 2.23531143, 1.78577149, 2.07358333, 1.78775717,\n",
       "       1.81303857, 2.50590306, 2.50590306, 1.78775717, 2.07358333])"
      ]
     },
     "execution_count": 50,
     "metadata": {},
     "output_type": "execute_result"
    }
   ],
   "source": [
    "model_load_width.predict(X_test)"
   ]
  },
  {
   "cell_type": "markdown",
   "metadata": {},
   "source": [
    "Сохраняем модель для расчета параметра 'Depth'"
   ]
  },
  {
   "cell_type": "code",
   "execution_count": 51,
   "metadata": {},
   "outputs": [],
   "source": [
    "pickle.dump(rf_depth, open('rf_depth.pkl', 'wb'))"
   ]
  },
  {
   "cell_type": "code",
   "execution_count": 52,
   "metadata": {},
   "outputs": [],
   "source": [
    "model_load_depth = pickle.load(open('rf_depth.pkl', 'rb'))"
   ]
  },
  {
   "cell_type": "code",
   "execution_count": 53,
   "metadata": {},
   "outputs": [
    {
     "data": {
      "text/plain": [
       "array([1.11537468, 1.13121655, 1.19452286, 1.28875179, 1.13121655,\n",
       "       0.95222529, 0.82799262, 1.13121655, 0.86171917, 1.2239502 ,\n",
       "       1.17028838, 1.48598024, 1.48598024, 1.2239502 , 0.86171917])"
      ]
     },
     "execution_count": 53,
     "metadata": {},
     "output_type": "execute_result"
    }
   ],
   "source": [
    "model_load_depth.predict(X_test)"
   ]
  },
  {
   "cell_type": "code",
   "execution_count": null,
   "metadata": {},
   "outputs": [],
   "source": []
  }
 ],
 "metadata": {
  "colab": {
   "authorship_tag": "ABX9TyNIV5AcJ1PXHyfcbhNtnUiK",
   "provenance": []
  },
  "kernelspec": {
   "display_name": "Python 3 (ipykernel)",
   "language": "python",
   "name": "python3"
  },
  "language_info": {
   "codemirror_mode": {
    "name": "ipython",
    "version": 3
   },
   "file_extension": ".py",
   "mimetype": "text/x-python",
   "name": "python",
   "nbconvert_exporter": "python",
   "pygments_lexer": "ipython3",
   "version": "3.9.13"
  },
  "toc": {
   "base_numbering": 1,
   "nav_menu": {},
   "number_sections": true,
   "sideBar": true,
   "skip_h1_title": true,
   "title_cell": "Table of Contents",
   "title_sidebar": "Contents",
   "toc_cell": true,
   "toc_position": {},
   "toc_section_display": true,
   "toc_window_display": false
  }
 },
 "nbformat": 4,
 "nbformat_minor": 1
}
